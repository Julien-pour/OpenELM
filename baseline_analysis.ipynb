{
 "cells": [
  {
   "cell_type": "code",
   "execution_count": 3,
   "metadata": {},
   "outputs": [
    {
     "name": "stdout",
     "output_type": "stream",
     "text": [
      "The autoreload extension is already loaded. To reload it, use:\n",
      "  %reload_ext autoreload\n"
     ]
    }
   ],
   "source": [
    "%load_ext autoreload\n",
    "%autoreload 2\n",
    "import matplotlib.pyplot as plt\n",
    "import numpy as np\n",
    "import json \n",
    "from openelm.environments.p3 import skill_list\n",
    "import pickle\n",
    "\n",
    "from langchain.schema import HumanMessage\n",
    "def getallitems(maps):\n",
    "    \"\"\"\n",
    "    Returns all the phenotypes that are in the Map.\"\"\"\n",
    "    genomes = maps[\"genomes\"]\n",
    "    valid_phenotype=[]\n",
    "    for gen in np.ndindex(genomes.shape):\n",
    "        value_gen = type(genomes[gen])\n",
    "        if value_gen!=float and value_gen!=int:\n",
    "            valid_phenotype.append(genomes[gen])\n",
    "\n",
    "    return valid_phenotype\n",
    "\n",
    "# init maps\n",
    "def return_cells_filled_per_gen(path_save_all,max_gen=-1,include_trainset=False):\n",
    "    #_init_discretization():\n",
    "    behavior_space= np.repeat([[0, 1]], 10, axis=0).T\n",
    "\n",
    "    bins = np.linspace(*behavior_space,  3)[1:-1].T  # type: ignore\n",
    "    # bins\n",
    "    def to_mapindex(b, bins=bins) :\n",
    "        \"\"\"Converts a phenotype (position in behaviour space) to a map index.\"\"\"\n",
    "        return (\n",
    "            None\n",
    "            if b is None\n",
    "            else tuple(np.digitize(x, bins) for x, bins in zip(b, bins))\n",
    "        )\n",
    "\n",
    "    path_maps = path_save_all.split(\"save_all.json\")[0]+\"maps.pkl\"\n",
    "\n",
    "    with open(path_maps, \"rb\") as f:\n",
    "        maps = pickle.load(f)\n",
    "    allitems=getallitems(maps)\n",
    "    items_trainset = [item for item in allitems if item.idx_generation==-1]\n",
    "    items_gen = [item for item in allitems if item.idx_generation!=-1]\n",
    "    print(len(items_trainset), len(items_gen))\n",
    "    len(items_trainset), len(items_gen)\n",
    "    nonzero=np.zeros_like(maps[\"nonzero\"]) \n",
    "    list_map_ix_train=[to_mapindex(puzz.emb) for puzz in items_trainset]\n",
    "    if include_trainset:\n",
    "        for map_ix_train in list_map_ix_train:\n",
    "            nonzero[map_ix_train] = True\n",
    "\n",
    "    # separate items per generation\n",
    "    list_gens= [puzz.idx_generation for puzz in items_gen]\n",
    "    if max_gen==-1:\n",
    "        max_gen = max(list_gens)\n",
    "    \n",
    "    list_emb_per_idx_gen = [[] for _ in range(max_gen+1)]\n",
    "    for i, gen in enumerate(list_gens):\n",
    "        if gen<len(list_emb_per_idx_gen):\n",
    "            list_emb_per_idx_gen[gen].append(items_gen[i].emb)\n",
    "        \n",
    "    number_of_cells_filled=[nonzero.sum()]\n",
    "    for i in range(len(list_emb_per_idx_gen)):\n",
    "        for puzz_emb in list_emb_per_idx_gen[i]:\n",
    "            new_map_ix=to_mapindex(puzz_emb)\n",
    "            nonzero[new_map_ix] = True\n",
    "        number_of_cells_filled.append(nonzero.sum())\n",
    "    return number_of_cells_filled"
   ]
  },
  {
   "cell_type": "code",
   "execution_count": 4,
   "metadata": {},
   "outputs": [
    {
     "name": "stdout",
     "output_type": "stream",
     "text": [
      "\n",
      "===================================BUG REPORT===================================\n",
      "Welcome to bitsandbytes. For bug reports, please run\n",
      "\n",
      "python -m bitsandbytes\n",
      "\n",
      " and submit this information together with your error trace to: https://github.com/TimDettmers/bitsandbytes/issues\n",
      "================================================================================\n",
      "bin /media/data/flowers/conda/envs/codegpt/lib/python3.10/site-packages/bitsandbytes/libbitsandbytes_cuda118.so\n",
      "CUDA SETUP: CUDA runtime path found: /media/data/flowers/conda/envs/codegpt/lib/libcudart.so.11.0\n",
      "CUDA SETUP: Highest compute capability among GPUs detected: 8.6\n",
      "CUDA SETUP: Detected CUDA version 118\n",
      "CUDA SETUP: Loading binary /media/data/flowers/conda/envs/codegpt/lib/python3.10/site-packages/bitsandbytes/libbitsandbytes_cuda118.so...\n"
     ]
    },
    {
     "data": {
      "text/plain": [
       "(536, 9)"
      ]
     },
     "execution_count": 4,
     "metadata": {},
     "output_type": "execute_result"
    }
   ],
   "source": [
    "path_centroids= \"/media/data/flowers/OpenELM/logs/elm/23-08-26_21:19/step_5/centroids.npy\"\n",
    "\n",
    "path_save_all=\"/media/data/flowers/OpenELM/logs/elm/23-08-26_21:42/step_1/save_all.json\"\n",
    "path_maps = path_save_all.split(\"save_all.json\")[0]+\"maps.pkl\"\n",
    "# with open(path_save_all, \"r\") as f:\n",
    "#     list_puzz = json.load(f)\n",
    "with open(path_maps, \"rb\") as f:\n",
    "    maps = pickle.load(f)\n",
    "allitems=getallitems(maps)\n",
    "items_trainset = [item for item in allitems if item.idx_generation==-1]\n",
    "items_gen = [item for item in allitems if item.idx_generation!=-1]\n",
    "len(items_trainset), len(items_gen)"
   ]
  },
  {
   "cell_type": "code",
   "execution_count": 5,
   "metadata": {},
   "outputs": [
    {
     "data": {
      "text/plain": [
       "312.0"
      ]
     },
     "execution_count": 5,
     "metadata": {},
     "output_type": "execute_result"
    }
   ],
   "source": [
    "# 67=308\n",
    "price_b0=8 # random\n",
    "price_b1=8 # ELM\n",
    "price_b2=10.5 # ELM + NLP space\n",
    "price_b3= 16 # dumb IMGEP\n",
    "price_b4 = 16 # smart IMGEP\n",
    "n_expe=4\n",
    "ratio=400/300\n",
    "(price_b0+price_b1+price_b2+price_b3+price_b4)*n_expe*ratio"
   ]
  },
  {
   "cell_type": "code",
   "execution_count": 6,
   "metadata": {},
   "outputs": [],
   "source": [
    "path_centroids= \"/media/data/flowers/OpenELM/logs/elm/23-08-26_21:19/step_5/centroids.npy\"\n",
    "out=np.load(path_centroids)"
   ]
  },
  {
   "cell_type": "code",
   "execution_count": 7,
   "metadata": {},
   "outputs": [
    {
     "name": "stdout",
     "output_type": "stream",
     "text": [
      "319 1258\n",
      "346 1733\n",
      "381 2015\n",
      "405 1896\n"
     ]
    },
    {
     "data": {
      "text/plain": [
       "<matplotlib.legend.Legend at 0x7fa32d6c4280>"
      ]
     },
     "execution_count": 7,
     "metadata": {},
     "output_type": "execute_result"
    },
    {
     "data": {
      "image/png": "[encoded data removed]",
      "text/plain": [
       "<Figure size 640x480 with 1 Axes>"
      ]
     },
     "metadata": {},
     "output_type": "display_data"
    }
   ],
   "source": [
    "include_trainset=False\n",
    "# IMGEP smart\n",
    "# seed = 42\n",
    "# expe 1 \n",
    "imgep_smart = \"/media/data/flowers/OpenELM/logs/elm/23-08-26_15:17/step_399/save_all.json\"# 20 #\"/media/data/flowers/OpenELM/logs/elm/23-08-25_11:24/step_299/save_all.json\" # 15$\n",
    "\n",
    "# imgep random\n",
    "# expe 1\n",
    "imgep_random =\"/media/data/flowers/OpenELM/logs/elm/23-08-26_17:12/step_399/save_all.json\"# 20$ \"/media/data/flowers/OpenELM/logs/elm/23-08-25_19:57/step_299/save_all.json\" # 15$\n",
    "# ELM-NLP\n",
    "elm_NLP =\"/media/data/flowers/OpenELM/logs/elm/23-08-26_18:51/step_399/save_all.json\"# 20$\"/media/data/flowers/OpenELM/logs/elm/23-08-26_01:02/step_299/save_all.json\" # 10.50$\n",
    "# ELM-base\n",
    "elm_base=\"\" # start at 65.48$\n",
    "# Random gen \n",
    "rd_gen = \"/media/data/flowers/OpenELM/logs/elm/23-08-26_11:55/step_399\" # 10.24$ for 400 start at 41.08 to 51,32\n",
    "rd_gen+= \"/save_all.json\"\n",
    "\n",
    "#plo\n",
    "number_of_cells_filled_b0=return_cells_filled_per_gen(rd_gen,include_trainset=include_trainset)#,max_gen=300)\n",
    "\n",
    "number_of_cells_filled_b2=return_cells_filled_per_gen(elm_NLP,include_trainset=include_trainset)#,max_gen=300)\n",
    "idx_m=-1#len(number_of_cells_filled_b2)+100\n",
    "number_of_cells_filled_b3=return_cells_filled_per_gen(imgep_random,include_trainset=include_trainset)#,max_gen=300)\n",
    "number_of_cells_filled_b4=return_cells_filled_per_gen(imgep_smart,include_trainset=include_trainset)#,max_gen=300)\n",
    "plt.plot(number_of_cells_filled_b0)\n",
    "plt.plot(number_of_cells_filled_b2[:idx_m])\n",
    "plt.plot(number_of_cells_filled_b3[:idx_m])\n",
    "plt.plot(number_of_cells_filled_b4[:idx_m])\n",
    "plt.legend([\"random-gen\",\"ELM-NLP\",\"IMGEP random\", \"IMGEP smart\"])"
   ]
  },
  {
   "cell_type": "code",
   "execution_count": null,
   "metadata": {},
   "outputs": [],
   "source": []
  }
 ],
 "metadata": {
  "kernelspec": {
   "display_name": "codegpt",
   "language": "python",
   "name": "python3"
  },
  "language_info": {
   "codemirror_mode": {
    "name": "ipython",
    "version": 3
   },
   "file_extension": ".py",
   "mimetype": "text/x-python",
   "name": "python",
   "nbconvert_exporter": "python",
   "pygments_lexer": "ipython3",
   "version": "3.10.11"
  },
  "orig_nbformat": 4
 },
 "nbformat": 4,
 "nbformat_minor": 2
}
