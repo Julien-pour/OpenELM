{
 "cells": [
  {
   "cell_type": "code",
   "execution_count": 1,
   "metadata": {},
   "outputs": [],
   "source": [
    "import json\n",
    "import pickle\n",
    "import matplotlib.pyplot as plt\n",
    "import numpy as np\n",
    "def load_maps(snapshot_path):\n",
    "    if \"json\" in snapshot_path:\n",
    "        file_mode = \"json\"\n",
    "    elif \"pkl\" in snapshot_path:\n",
    "        file_mode =  \"pkl\"\n",
    "    else:\n",
    "        print(\"not found\")\n",
    "        if snapshot_path[-1]==\"/\":\n",
    "            snapshot_path += \"maps.pkl\"\n",
    "        else:\n",
    "            snapshot_path += \"/maps.pkl\"\n",
    "        file_mode = \"pkl\"\n",
    "\n",
    "    if file_mode == \"json\":\n",
    "        with open(snapshot_path, \"r\") as f:\n",
    "            genomes = json.load(f)\n",
    "    else:\n",
    "        with open(snapshot_path, \"rb\") as f:\n",
    "            maps = pickle.load(f)\n",
    "        fitnesses = maps[\"fitnesses\"]\n",
    "        genomes = maps[\"genomes\"]\n",
    "        non_zeros = maps[\"nonzero\"]\n",
    "        genomes=[i.__dict__ for i in genomes.archive]\n",
    "    return genomes\n",
    "\n",
    "\n",
    "path = \"/home/flowers/work/OpenELM/analysis_P3/quality/to_analyse/maps_1_imgep_smart.json\"\n",
    "genomes = load_maps(path)"
   ]
  },
  {
   "cell_type": "code",
   "execution_count": 2,
   "metadata": {},
   "outputs": [],
   "source": [
    "non_zeros={}\n",
    "indices_gen = [i for i, x in enumerate(genomes)]\n",
    "for i in indices_gen:\n",
    "    emb = str(genomes[i][\"emb\"])\n",
    "    if emb in non_zeros:\n",
    "        non_zeros[emb].append(i)\n",
    "    else:\n",
    "        non_zeros[emb] = [i]"
   ]
  },
  {
   "cell_type": "code",
   "execution_count": 21,
   "metadata": {},
   "outputs": [
    {
     "name": "stdout",
     "output_type": "stream",
     "text": [
      "18\n"
     ]
    }
   ],
   "source": []
  },
  {
   "cell_type": "code",
   "execution_count": 3,
   "metadata": {},
   "outputs": [
    {
     "name": "stdout",
     "output_type": "stream",
     "text": [
      "54\n",
      "===========\n",
      "\n",
      "\n",
      "number of correct completion 0 / 5 trials\n",
      "idx 35\n",
      "The puzzle involves defining a function f that checks if a given subset of numbers is a subset of the Fibonacci sequence up to a certain limit. The solution function g generates the Fibonacci sequence up to the specified limit and returns it. The puzzle requires f(g()) to return True.\n",
      "\n",
      "def f(subset: list, limit=100) -> bool:\n",
      "    fibonacci = [0, 1]\n",
      "    while fibonacci[-1] + fibonacci[-2] <= limit:\n",
      "        fibonacci.append(fibonacci[-1] + fibonacci[-2])\n",
      "    return set(subset).issubset(fibonacci)\n",
      "\n",
      "def g(limit=100):\n",
      "    fibonacci = [0, 1]\n",
      "    while fibonacci[-1] + fibonacci[-2] <= limit:\n",
      "        fibonacci.append(fibonacci[-1] + fibonacci[-2])\n",
      "    return fibonacci\n",
      "\n",
      "assert f(g()) == True\n",
      "\n"
     ]
    }
   ],
   "source": [
    "n_puzzle=1\n",
    "list_puzzle_2_eval={}\n",
    "count=0\n",
    "for emb,list_idx in non_zeros.items():\n",
    "    len_list_puz = len(list_idx)\n",
    "    if len_list_puz>=n_puzzle:\n",
    "        list_puzzle_2_eval[emb]=np.random.choice(list_idx, min(n_puzzle,6), replace=False)\n",
    "idx = np.random.choice(len(list_puzzle_2_eval), replace=False)\n",
    "value = list(list_puzzle_2_eval.values())[idx]\n",
    "key = list(list_puzzle_2_eval.keys())[idx]\n",
    "print(idx)\n",
    "for idx in value:\n",
    "    print(\"===========\\n\\n\")\n",
    "    print(f\"number of correct completion {genomes[idx]['n_correct']} / 5 trials\")\n",
    "    print(f\"idx {genomes[idx]['idx_generation']}\")\n",
    "    print(genomes[idx][\"description\"][0])\n",
    "\n",
    "    print(genomes[idx][\"program_str\"])\n"
   ]
  },
  {
   "cell_type": "code",
   "execution_count": 4,
   "metadata": {},
   "outputs": [
    {
     "ename": "SyntaxError",
     "evalue": "invalid syntax (4163533367.py, line 1)",
     "output_type": "error",
     "traceback": [
      "\u001b[0;36m  Cell \u001b[0;32mIn[4], line 1\u001b[0;36m\u001b[0m\n\u001b[0;31m    ```\u001b[0m\n\u001b[0m    ^\u001b[0m\n\u001b[0;31mSyntaxError\u001b[0m\u001b[0;31m:\u001b[0m invalid syntax\n"
     ]
    }
   ],
   "source": [
    "```\n",
    "number of correct completion 2 / 5 trials\n",
    "idx 84\n",
    "The puzzle involves defining a function f that checks if a given string is a palindrome after removing non-alphanumeric characters, and a function g that generates a random palindrome string. The assert statement checks if function f returns True when applied to the output of function g.\n",
    "\n",
    "def f(string: str) -> bool:\n",
    "    cleaned_string = ''.join(char.lower() for char in string if char.isalnum())\n",
    "    return cleaned_string == cleaned_string[::-1]\n",
    "\n",
    "def g():\n",
    "    import random\n",
    "    letters = 'abcdefghijklmnopqrstuvwxyz'\n",
    "    palindrome = ''.join(random.choice(letters) for _ in range(7))\n",
    "    return palindrome + palindrome[::-1]\n",
    "\n",
    "assert f(g()) == True\n",
    "```"
   ]
  },
  {
   "cell_type": "code",
   "execution_count": 5,
   "metadata": {},
   "outputs": [
    {
     "ename": "SyntaxError",
     "evalue": "invalid syntax (3142497506.py, line 1)",
     "output_type": "error",
     "traceback": [
      "\u001b[0;36m  Cell \u001b[0;32mIn[5], line 1\u001b[0;36m\u001b[0m\n\u001b[0;31m    number of correct completion 0 / 5 trials\u001b[0m\n\u001b[0m           ^\u001b[0m\n\u001b[0;31mSyntaxError\u001b[0m\u001b[0;31m:\u001b[0m invalid syntax\n"
     ]
    }
   ],
   "source": [
    "number of correct completion 0 / 5 trials\n",
    "idx 35\n",
    "The puzzle involves defining a function f that checks if a given subset of numbers is a subset of the Fibonacci sequence up to a certain limit. The solution function g generates the Fibonacci sequence up to the specified limit and returns it. The puzzle requires f(g()) to return True.\n",
    "\n",
    "def f(subset: list, limit=100) -> bool:\n",
    "    fibonacci = [0, 1]\n",
    "    while fibonacci[-1] + fibonacci[-2] <= limit:\n",
    "        fibonacci.append(fibonacci[-1] + fibonacci[-2])\n",
    "    return set(subset).issubset(fibonacci)\n",
    "\n",
    "def g(limit=100):\n",
    "    fibonacci = [0, 1]\n",
    "    while fibonacci[-1] + fibonacci[-2] <= limit:\n",
    "        fibonacci.append(fibonacci[-1] + fibonacci[-2])\n",
    "    return fibonacci\n",
    "\n",
    "assert f(g()) == True\n"
   ]
  },
  {
   "cell_type": "code",
   "execution_count": 48,
   "metadata": {},
   "outputs": [
    {
     "data": {
      "text/plain": [
       "dict_keys(['fitness', 'program_str', 'emb', 'explanation_emb', 'idx_generation', 'target_skills', 'puzzle_history', 'problem_func', 'solution_func', 'quality', 'description', 'is_valid', 'is_valid_explanation', 'pass_5', 'n_sample', 'n_correct'])"
      ]
     },
     "execution_count": 48,
     "metadata": {},
     "output_type": "execute_result"
    }
   ],
   "source": [
    "genomes[0].keys()"
   ]
  },
  {
   "cell_type": "code",
   "execution_count": null,
   "metadata": {},
   "outputs": [],
   "source": [
    "puz_list=[#n_correct 1 /5\n",
    "\"\"\"\n",
    "Puzzle description: The puzzle requires the student to define a function that generates a list of numbers based on given parameters, and then check if the generated list satisfies certain conditions.\n",
    "from typing import List \n",
    "def f(x: List[int], a=43536, s=3795, e=417606) -> bool:\n",
    "    return x[0] == a and x[-1] <= e and (x[-1] + s > e) and all([x[i] + s == x[i + 1] for i in range(len(x) - 1)])\n",
    "def g(a = 43536, s = 3795, e = 417606):\n",
    "    return list(range(a, e + 1, s))\n",
    "assert f(g()) == True\n",
    "\"\"\",\n",
    "#n_correct 3 /5\n",
    "\n",
    "\"\"\"\n",
    "The puzzle involves finding a missing number in a list of integers by calculating the sum of the list and comparing it to the expected sum of a sequence of numbers.\n",
    "\n",
    "from typing import List\n",
    "\n",
    "def f(missing_num: int, nums=[1, 2, 3, 4, 6, 7, 8, 9]) -> bool:\n",
    "    n = len(nums) + 1\n",
    "    total_sum = n * (n + 1) // 2\n",
    "    return missing_num == total_sum - sum(nums)\n",
    "\n",
    "def g(nums=[1, 2, 3, 4, 6, 7, 8, 9]) -> int:\n",
    "    n = len(nums) + 1\n",
    "    total_sum = n * (n + 1) // 2\n",
    "    return total_sum - sum(nums)\n",
    "\n",
    "assert f(g()) == True\n",
    "\"\"\",\n",
    "#difficulty 3 /5\n",
    "\n",
    "\"\"\"\n",
    "The puzzle requires the student to create a string expression using only the characters '1', '8', '-', '+', '*', and '/' that evaluates to 63 and contains three occurrences of the digit '8' and one occurrence of the digit '1'.\n",
    "def f(s: str) -> bool:\n",
    "    return set(s) <= set('18-+*/') and s.count('8') == 3 and (s.count('1') == 1) and (eval(s) == 63)\n",
    "def g():\n",
    "    return \"8*8-1**8\"\n",
    "assert f(g()) == True\n",
    "\"\"\"\n",
    "          \n",
    "          ]"
   ]
  },
  {
   "cell_type": "code",
   "execution_count": 10,
   "metadata": {},
   "outputs": [],
   "source": [
    "# ###\n",
    "# This is a pretraining …. datapoint.\n",
    "# ###\n",
    "# Does the previous paragraph demarcated within ### and ###\n",
    "# contain informative signal for pre-training a large-language model?\n",
    "# An informative datapoint should be well-formatted, contain some\n",
    "# usable knowledge of the world, and strictly NOT have any harmful,\n",
    "# racist, sexist, etc. content.\n",
    "# OPTIONS:\n",
    "# - yes\n",
    "# - no"
   ]
  },
  {
   "cell_type": "code",
   "execution_count": 81,
   "metadata": {},
   "outputs": [],
   "source": [
    "prompt_fine_finetuning=\"\"\"###\n",
    "This is a pretraining datapoint:\n",
    "```python\n",
    "from typing import List\n",
    "from itertools import permutations\n",
    "\n",
    "def f(nums: List[int]) -> bool:\n",
    "    def check_condition(perm):\n",
    "        # Define your condition here\n",
    "        return True\n",
    "\n",
    "    for perm in permutations(nums):\n",
    "        if check_condition(perm):\n",
    "            return True\n",
    "    return False\n",
    "\n",
    "def g():\n",
    "    return [1, 2, 3]\n",
    "\n",
    "assert f(g()) == True\n",
    "```\n",
    "###\n",
    "Does the previous paragraph demarcated within ### and ###\n",
    "contain informative signal for fine-tuning a large-language model?\n",
    "An informative datapoint should be well-formatted, contain some\n",
    "usable knowledge of the world.\n",
    "OPTIONS:\n",
    "- Yes\n",
    "- No\n",
    "\"\"\"\n",
    "\n",
    "prompt_education=\"\"\"###\n",
    "This is a educational datapoint to give to students during their exams:\n",
    "```python\n",
    "from typing import List\n",
    "from itertools import permutations\n",
    "\n",
    "def f(nums: List[int]) -> bool:\n",
    "    def check_condition(perm):\n",
    "        # Define your condition here\n",
    "        return True\n",
    "\n",
    "    for perm in permutations(nums):\n",
    "        if check_condition(perm):\n",
    "            return True\n",
    "    return False\n",
    "\n",
    "def g():\n",
    "    return [1, 2, 3]\n",
    "\n",
    "assert f(g()) == True\n",
    "```\n",
    "###\n",
    "Does the previous paragraph demarcated within ### and ###\n",
    "contain informative signal to a large-language model?\n",
    "An informative datapoint should be well-formatted, contain some\n",
    "usable knowledge of the world.\n",
    "OPTIONS:\n",
    "- Yes\n",
    "- NO\n",
    "\"\"\""
   ]
  },
  {
   "cell_type": "code",
   "execution_count": 7,
   "metadata": {},
   "outputs": [],
   "source": [
    "# top_logprobs\n",
    "import sys \n",
    "sys.path.append(\"/home/flowers/work/OpenELM\")\n",
    "from openai import OpenAI\n",
    "from key import OPENAI_API_KEY\n",
    "from utils_openai import get_completion\n",
    "cfg: dict = {\n",
    "\"temperature\": 0.,\n",
    "# \"top_p\": 1.,\n",
    "# TODO: rename config option?\n",
    "\"model\": \"gpt-3.5-turbo-0125\",\n",
    "\"logprobs\": True,\n",
    "\"top_logprobs\": 5,\n",
    "}\n",
    "max_retries=10\n",
    "timeout=30\n",
    "client = OpenAI(api_key=OPENAI_API_KEY,max_retries=max_retries, timeout=timeout)\n"
   ]
  },
  {
   "cell_type": "code",
   "execution_count": 8,
   "metadata": {},
   "outputs": [],
   "source": [
    "import tiktoken\n",
    "encoding = tiktoken.encoding_for_model(\"gpt-3.5-turbo\")\n",
    "logits_yes = encoding.encode(\"yes\")\n",
    "logits_no = encoding.encode(\"no\")\n",
    "\n",
    "logits_yes, logits_no\n",
    "logit_bias={str(logits_yes[0]): +100, str(logits_no[0]):+100}"
   ]
  },
  {
   "cell_type": "code",
   "execution_count": 9,
   "metadata": {},
   "outputs": [
    {
     "ename": "AttributeError",
     "evalue": "'str' object has no attribute 'choices'",
     "output_type": "error",
     "traceback": [
      "\u001b[0;31m---------------------------------------------------------------------------\u001b[0m",
      "\u001b[0;31mAttributeError\u001b[0m                            Traceback (most recent call last)",
      "Cell \u001b[0;32mIn[9], line 4\u001b[0m\n\u001b[1;32m      1\u001b[0m out\u001b[38;5;241m=\u001b[39mget_completion(client,prompt, cfg,temperature\u001b[38;5;241m=\u001b[39m\u001b[38;5;241m0.0\u001b[39m)\n\u001b[1;32m      2\u001b[0m \u001b[38;5;66;03m# out.choices[0].logprobs.content[0].top_logprobs\u001b[39;00m\n\u001b[0;32m----> 4\u001b[0m \u001b[38;5;28;01mfor\u001b[39;00m tok \u001b[38;5;129;01min\u001b[39;00m \u001b[43mout\u001b[49m\u001b[38;5;241;43m.\u001b[39;49m\u001b[43mchoices\u001b[49m[\u001b[38;5;241m0\u001b[39m]\u001b[38;5;241m.\u001b[39mlogprobs\u001b[38;5;241m.\u001b[39mcontent[\u001b[38;5;241m0\u001b[39m]\u001b[38;5;241m.\u001b[39mtop_logprobs:\n\u001b[1;32m      5\u001b[0m     \u001b[38;5;28mprint\u001b[39m(tok\u001b[38;5;241m.\u001b[39mtoken, \u001b[38;5;124m\"\u001b[39m\u001b[38;5;124m, logprobs = \u001b[39m\u001b[38;5;124m\"\u001b[39m ,np\u001b[38;5;241m.\u001b[39mexp(tok\u001b[38;5;241m.\u001b[39mlogprob))\n",
      "\u001b[0;31mAttributeError\u001b[0m: 'str' object has no attribute 'choices'"
     ]
    }
   ],
   "source": [
    "out=get_completion(client,prompt_fine_finetuning, cfg,temperature=0.0)\n",
    "# out.choices[0].logprobs.content[0].top_logprobs\n",
    "\n",
    "for tok in out.choices[0].logprobs.content[0].top_logprobs:\n",
    "    print(tok.token, \", logprobs = \" ,np.exp(tok.logprob))"
   ]
  },
  {
   "cell_type": "code",
   "execution_count": 11,
   "metadata": {},
   "outputs": [
    {
     "data": {
      "text/plain": [
       "'###\\nThis is a pretraining datapoint:\\n```python\\nfrom typing import List\\nfrom itertools import permutations\\n\\ndef f(nums: List[int]) -> bool:\\n    def check_condition(perm):\\n        # Define your condition here\\n        return True\\n\\n    for perm in permutations(nums):\\n        if check_condition(perm):\\n            return True\\n    return False\\n\\ndef g():\\n    return [1, 2, 3]\\n\\nassert f(g()) == True\\n```\\n###\\nDoes the previous paragraph demarcated within ### and ###\\ncontain informative signal for fine-tuning a large-language model?\\nAn informative datapoint should be well-formatted, contain some\\nusable knowledge of the world.\\nOPTIONS:\\n- yes\\n- no\\n'"
      ]
     },
     "execution_count": 11,
     "metadata": {},
     "output_type": "execute_result"
    }
   ],
   "source": [
    "prompt"
   ]
  },
  {
   "cell_type": "code",
   "execution_count": 122,
   "metadata": {},
   "outputs": [
    {
     "data": {
      "text/plain": [
       "(0.5, 1.5)"
      ]
     },
     "execution_count": 122,
     "metadata": {},
     "output_type": "execute_result"
    }
   ],
   "source": [
    "# $0.0005 / 1K tokens\t$0.0015 / 1K tokens\n",
    "0.0005*1000, 0.0015*1000"
   ]
  },
  {
   "cell_type": "code",
   "execution_count": null,
   "metadata": {},
   "outputs": [],
   "source": []
  },
  {
   "cell_type": "code",
   "execution_count": 14,
   "metadata": {},
   "outputs": [
    {
     "name": "stdout",
     "output_type": "stream",
     "text": [
      "yes , logprobs =  0.7980235505503027\n",
      "no , logprobs =  0.08322585684915011\n",
      "- , logprobs =  0.08321569559238617\n",
      "Yes , logprobs =  0.030966168783352257\n",
      "No , logprobs =  0.0028206991478242705\n",
      "=====\n",
      "\n",
      "yes , logprobs =  0.955584274327124\n",
      "no , logprobs =  0.02049601504053926\n",
      "- , logprobs =  0.01635460123711706\n",
      "Yes , logprobs =  0.007025766214712721\n",
      "No , logprobs =  0.00030244473239863503\n",
      "=====\n",
      "\n",
      "yes , logprobs =  0.7980235505503027\n",
      "no , logprobs =  0.08322585684915011\n",
      "- , logprobs =  0.08321569559238617\n",
      "Yes , logprobs =  0.030966168783352257\n",
      "No , logprobs =  0.0028206991478242705\n",
      "=====\n",
      "\n",
      "yes , logprobs =  0.8623405126885293\n",
      "- , logprobs =  0.045371972971242534\n",
      "no , logprobs =  0.044624943722659634\n",
      "Yes , logprobs =  0.044412069984045864\n",
      "No , logprobs =  0.0026025670346923966\n",
      "=====\n",
      "\n",
      "yes , logprobs =  0.8623405126885293\n",
      "- , logprobs =  0.045371972971242534\n",
      "no , logprobs =  0.044624943722659634\n",
      "Yes , logprobs =  0.044412069984045864\n",
      "No , logprobs =  0.0026025670346923966\n",
      "=====\n",
      "\n"
     ]
    }
   ],
   "source": [
    "for _ in range(5):\n",
    "    completion = client.chat.completions.create(\n",
    "    messages=[\n",
    "        {\"role\": \"system\", \"content\": \"You are an AI programming assistant\"},#You are a coding assistant, skilled in writting code with creative flair.\"},\n",
    "        {\"role\": \"user\", \"content\": prompt_fine_finetuning}\n",
    "    ],temperature=None,logprobs=True,top_logprobs=5,model = \"gpt-3.5-turbo-0125\",max_tokens=1\n",
    "    )\n",
    "\n",
    "    for tok in completion.choices[0].logprobs.content[0].top_logprobs:\n",
    "        print(tok.token, \", logprobs = \" ,np.exp(tok.logprob))\n",
    "    print(\"=====\\n\")"
   ]
  },
  {
   "cell_type": "code",
   "execution_count": 119,
   "metadata": {},
   "outputs": [
    {
     "name": "stderr",
     "output_type": "stream",
     "text": [
      "Special tokens have been added in the vocabulary, make sure the associated word embeddings are fine-tuned or trained.\n"
     ]
    }
   ],
   "source": [
    "from transformers import AutoTokenizer, AutoModelForCausalLM\n",
    "import torch\n",
    "path_model= \"/home/flowers/work/hf/deepseek-coder-1.3b-instruct\"\n",
    "tokenizer = AutoTokenizer.from_pretrained(path_model,local_files_only=True)#LlamaTokenizer.from_pretrained(model_id,local_files_only=True)\n",
    "dtype = torch.bfloat16\n",
    "model = AutoModelForCausalLM.from_pretrained(\n",
    "    path_model,\n",
    "\n",
    "    device_map=\"auto\",\n",
    "    local_files_only=True,\n",
    ")\n",
    "model.eval()\n",
    "model.config.use_cache = True\n",
    "soft=torch.nn.Softmax(dim=1)\n",
    "\n",
    "prompt_model=\"\"\"You are an AI programming assistant, utilizing the DeepSeek Coder model, developed by DeepSeek Company, and you only answer questions related to computer science.\n",
    "### Instruction:\n",
    "{instruction}\n",
    "### Response:\n",
    "\"\"\"\n"
   ]
  },
  {
   "cell_type": "code",
   "execution_count": 120,
   "metadata": {},
   "outputs": [],
   "source": [
    "full_prompt = prompt_model.format(instruction = prompt_education)# prompt_fine_finetuning)\n",
    "yes_prompt= full_prompt# + \"Yes\"\n",
    "# no_prompt= full_prompt + \"No\"\n",
    "# print(full_prompt)"
   ]
  },
  {
   "cell_type": "code",
   "execution_count": 123,
   "metadata": {},
   "outputs": [],
   "source": [
    "with torch.inference_mode():\n",
    "    input_tokenise=tokenizer(yes_prompt, return_tensors='pt').to(\"cuda\")\n",
    "    out_yes=model(**input_tokenise)\n"
   ]
  },
  {
   "cell_type": "code",
   "execution_count": 126,
   "metadata": {},
   "outputs": [
    {
     "data": {
      "text/plain": [
       "233"
      ]
     },
     "execution_count": 126,
     "metadata": {},
     "output_type": "execute_result"
    }
   ],
   "source": []
  },
  {
   "cell_type": "code",
   "execution_count": 113,
   "metadata": {},
   "outputs": [
    {
     "data": {
      "text/plain": [
       "0.5670896768569946"
      ]
     },
     "execution_count": 113,
     "metadata": {},
     "output_type": "execute_result"
    }
   ],
   "source": [
    "# return p(yes|prompt)\n",
    "k=5\n",
    "yes_logits=soft(out_yes.logits[:,-1]).cpu().detach() #logits associated with the token \"yes\"\n",
    "values,indices=torch.topk(yes_logits, k)\n",
    "list_token=tokenizer.batch_decode(indices.T)\n",
    "values,list_token\n",
    "if \"Yes\" in list_token:\n",
    "    idx = list_token.index(\"Yes\")\n",
    "elif \"yes\" in list_token:\n",
    "    idx = list_token.index(\"yes\")\n",
    "elif \"No\" in list_token:\n",
    "    idx = list_token.index(\"No\")\n",
    "elif \"no\" in list_token:\n",
    "    idx = list_token.index(\"no\")\n",
    "# else:\n",
    "    # return 0.5\n",
    "values[[0],idx].item()"
   ]
  },
  {
   "cell_type": "code",
   "execution_count": 111,
   "metadata": {},
   "outputs": [
    {
     "data": {
      "text/plain": [
       "0"
      ]
     },
     "execution_count": 111,
     "metadata": {},
     "output_type": "execute_result"
    }
   ],
   "source": [
    "idx"
   ]
  },
  {
   "cell_type": "code",
   "execution_count": 96,
   "metadata": {},
   "outputs": [],
   "source": [
    "# tokenizer.decode(torch.argmax(yes_logits, dim=1)),yes_logits[0,torch.argmax(yes_logits, dim=1)]"
   ]
  },
  {
   "cell_type": "code",
   "execution_count": 97,
   "metadata": {},
   "outputs": [
    {
     "data": {
      "text/plain": [
       "[<matplotlib.lines.Line2D at 0x7f49aa70c370>]"
      ]
     },
     "execution_count": 97,
     "metadata": {},
     "output_type": "execute_result"
    },
    {
     "data": {
      "image/png": "[encoded data removed]",
      "text/plain": [
       "<Figure size 640x480 with 1 Axes>"
      ]
     },
     "metadata": {},
     "output_type": "display_data"
    }
   ],
   "source": [
    "plt.plot(yes_logits[0])\n"
   ]
  },
  {
   "cell_type": "markdown",
   "metadata": {},
   "source": [
    "# logits bias"
   ]
  },
  {
   "cell_type": "code",
   "execution_count": 21,
   "metadata": {},
   "outputs": [
    {
     "name": "stdout",
     "output_type": "stream",
     "text": [
      "yes , logprobs =  0.825312662166235\n",
      "no , logprobs =  0.17468727563723466\n",
      "Yes , logprobs =  3.720075976020836e-44\n",
      "- , logprobs =  3.720075976020836e-44\n",
      "No , logprobs =  3.720075976020836e-44\n"
     ]
    }
   ],
   "source": [
    "completion = client.chat.completions.create(\n",
    "messages=[\n",
    "    {\"role\": \"system\", \"content\": \"You are an AI programming assistant\"},#You are a coding assistant, skilled in writting code with creative flair.\"},\n",
    "    {\"role\": \"user\", \"content\": prompt}\n",
    "],temperature=0.0,logprobs=True,top_logprobs=5,model = \"gpt-3.5-turbo-0125\",max_tokens=1,logit_bias=logit_bias,\n",
    ")\n",
    "\n",
    "for tok in completion.choices[0].logprobs.content[0].top_logprobs:\n",
    "    print(tok.token, \", logprobs = \" ,np.exp(tok.logprob))\n"
   ]
  },
  {
   "cell_type": "code",
   "execution_count": null,
   "metadata": {},
   "outputs": [],
   "source": []
  }
 ],
 "metadata": {
  "kernelspec": {
   "display_name": "inference",
   "language": "python",
   "name": "python3"
  },
  "language_info": {
   "codemirror_mode": {
    "name": "ipython",
    "version": 3
   },
   "file_extension": ".py",
   "mimetype": "text/x-python",
   "name": "python",
   "nbconvert_exporter": "python",
   "pygments_lexer": "ipython3",
   "version": "3.10.13"
  }
 },
 "nbformat": 4,
 "nbformat_minor": 2
}
