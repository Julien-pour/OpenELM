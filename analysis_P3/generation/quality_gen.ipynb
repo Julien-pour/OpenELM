{
 "cells": [
  {
   "cell_type": "code",
   "execution_count": 8,
   "metadata": {},
   "outputs": [],
   "source": [
    "# top_logprobs\n",
    "import sys \n",
    "sys.path.append(\"/home/flowers/work/OpenELM\")\n",
    "from openai import AzureOpenAI\n",
    "from key import OPENAI_API_KEY,cfg_client_azure,cfg_client_azure_gpt4\n",
    "from utils import get_multiple_completions\n",
    "import json\n",
    "import copy\n",
    "import matplotlib.pyplot as plt\n",
    "import numpy as np\n",
    "cfg_client= copy.deepcopy(cfg_client_azure)\n",
    "model_id=cfg_client[\"model_id\"]\n",
    "\n",
    "cfg_client_gpt4= copy.deepcopy(cfg_client_azure_gpt4)\n",
    "\n",
    "model_id_gpt4=cfg_client_gpt4[\"model_id\"]\n",
    "\n",
    "del cfg_client[\"model_id\"]\n",
    "del cfg_client_gpt4[\"model_id\"]\n",
    "cfg: dict = {\n",
    "\"temperature\": 0.7,\n",
    "\"max_tokens\":500,\n",
    "# \"top_p\": 1.,\n",
    "# TODO: rename config option?\n",
    "\"model\": model_id,\n",
    "# \"logprobs\": True,\n",
    "# \"top_logprobs\": 5,ez\n",
    "}\n",
    "cfg_gpt4 = copy.deepcopy(cfg)\n",
    "cfg_gpt4[\"model\"]=model_id_gpt4\n",
    "max_retries=10\n",
    "timeout=30\n",
    "client = AzureOpenAI(**cfg_client,max_retries=max_retries, timeout=timeout)\n",
    "client_gpt4= AzureOpenAI(**cfg_client_gpt4,max_retries=max_retries, timeout=timeout)\n",
    "import instructor\n",
    "client_instructor=instructor.patch(client)\n",
    "client_instructor_gpt4=instructor.patch(client_gpt4)\n",
    "path = \"/home/flowers/work/OpenELM/analysis_P3/generation/puzzle_survey_v2.json\"\n",
    "with open(path) as f:\n",
    "    data=json.load(f)\n",
    "\n",
    "list_puzzle=[i['formatted'] for i in data]"
   ]
  },
  {
   "cell_type": "code",
   "execution_count": 21,
   "metadata": {},
   "outputs": [
    {
     "data": {
      "text/plain": [
       "(3553.3333333333335, 3048.76)"
      ]
     },
     "execution_count": 21,
     "metadata": {},
     "output_type": "execute_result"
    }
   ],
   "source": [
    "n=260\n",
    "t=1\n",
    "s=10.25\n",
    "m=n*t*s*4/3\n",
    "c=0.8580\n",
    "m,m*c #(3553.3333333333335, 3048.76)\n"
   ]
  },
  {
   "cell_type": "code",
   "execution_count": 24,
   "metadata": {},
   "outputs": [
    {
     "data": {
      "text/plain": [
       "1024"
      ]
     },
     "execution_count": 24,
     "metadata": {},
     "output_type": "execute_result"
    }
   ],
   "source": [
    "512+128*4\n",
    "\n"
   ]
  },
  {
   "cell_type": "markdown",
   "metadata": {},
   "source": [
    "# based on questionnary"
   ]
  },
  {
   "cell_type": "code",
   "execution_count": 5,
   "metadata": {},
   "outputs": [],
   "source": [
    "min_grade=1\n",
    "max_grade=7\n",
    "interval=f\"{min_grade}-{max_grade}\"\n",
    "grades=\"\"\"**Clarity**: we want to understand whether the programming puzzle’s instructions were clear. Clear instructions provide all the necessary information to solve the puzzle concisely and unambiguously.\n",
    "How clear were the instructions?\n",
    "- {interval} Likert from not clear at all to very clear \n",
    "\n",
    "**Usefulness for skill learning**: we want to understand how much {level} would benefit from practicing on this puzzle. A student benefits from a puzzle if it is adequate to their current level of skills – i.e., if it is not too easy (since the student would not learn anything new) and not too hard (since the student would not be able to even make progress on the puzzle). \n",
    "How much would an advanced student benefit from practicing on this puzzle? \n",
    "- {interval} Likert from not at all to very much\n",
    "\n",
    "**Difficulty**: we want to understand how difficult this puzzle would be for {level}. \n",
    "How difficult would it be for {level} to solve this puzzle? \n",
    "- {interval} Likert from not at all difficult (could solve it very easily) to very difficult (takes a long time to solve and/or may not be possible for the student to solve)\n",
    "\n",
    "**Engagement**: we want to understand how engaging, interesting, or fun this puzzle would be for {level}.\n",
    "How engaging would {level} find this puzzle? \n",
    "- {interval} Likert from not at all engaging to very engaging\n",
    "\n",
    "**Conciseness of the solution**: we want to know how likely the problem is to have a concise solution. A concise solution would have <10 lines of code and it would not be too hard to follow using pen and paper.\n",
    "How likely is this puzzle to support at least one concise solution?\n",
    "- {interval} Likert from not at all likely to very likely\n",
    "\n",
    "**Overall recommendation**: Imagine you were teaching a programming class. We want to understand whether you would recommend this puzzle to {level}.  \n",
    "Would you recommend this puzzle to {level}?\n",
    "- {interval} Likert from would never recommend to would strongly recommend\n",
    "\"\"\"\n",
    "level_advance = \"a last year bachelor student\"#\"an expert in Leetcode problems\"\n",
    "level_beginner = \"a first year bachelor student\"\n",
    "grades_level=grades.format(interval=interval,level=level_advance)\n"
   ]
  },
  {
   "cell_type": "code",
   "execution_count": 6,
   "metadata": {},
   "outputs": [],
   "source": [
    "lvl_=\"first-year bachelor student\"\n",
    "preprompt_2=f'''You are a discerning and objective assistant tasked with evaluating Python Programming Puzzles for {lvl_}. Your role is crucial in ensuring the puzzle's grads is accurately gauged to maintain the integrity of our educational process.\n",
    "\n",
    "Each puzzle should be rated on a Likert scale from {min_grade} to {max_grade}, where:\n",
    "- A score of {min_grade} signifies unlikely or not at all.\n",
    "- A score of {max_grade} indicates very likely or very much.\n",
    "\n",
    "We encourage you to utilize the full range of the scale to differentiate between the levels of grading effectively.''' \n",
    "# Your judgment should be based on factors such as the complexity of the algorithm required, the depth of programming concepts involved, and the innovative thinking needed to solve the puzzle.\n",
    "\n",
    "# Please provide a score (an integer) that best represents the puzzle's difficulty. We rely on your expertise and judgment to use the entire scoring range appropriately to ensure a fair and accurate assessment.\n",
    "\n",
    "# You must only give a score with the following format: \"Score: \"'''\n",
    "\n",
    "## Question:\n",
    "prompt_explain_puzzle='''Your role is to evaluate some programming puzzles in Python.\n",
    "Each puzzle has two components:\n",
    "- The problem function, denoted as f.\n",
    "- The solution function, g.\n",
    "\n",
    "The challenge lies in constructing g such that the expression f(g()) evaluates to True. In other words, each puzzle is a Python function that takes an answer as an argument. The answer is an input that makes the function return True.\n",
    "'''\n",
    "preprompt_1 = \"You are an unbiased Judge and you have more than 10 years of experience in python programming.\"\n",
    "preprompt= prompt_explain_puzzle\n",
    "prompt = preprompt+\"You need to evaluate the puzzle based on these criteria:\\n\"+grades_level+\"\\nHere is a puzzle for you to evaluate:\\n```python\\n{puzzle}\\n```\\n\\n\""
   ]
  },
  {
   "cell_type": "code",
   "execution_count": 7,
   "metadata": {},
   "outputs": [],
   "source": [
    "from openelm.mutation_model import get_multiple_completions_instructor\n",
    "from pydantic import BaseModel,Field\n",
    "from typing import List, Optional\n",
    "class Puzzle_evalutation(BaseModel):\n",
    "    f\"\"\"evaluate the given puzzle on a Likert scale from {interval}\"\"\"\n",
    "    # explanations_grades: str = Field(decription=\"Short explanation of all specific grades that should be given to the puzzle.\")\n",
    "    evaluate_clarity: str = Field(description=\"quick evalution of the clarity .\")\n",
    "    clarity_grade: int = Field(description=f\"{interval} Likert from not clear at all to very clear\")\n",
    "    evaluate_usefulness: str = Field(description=\"quick evalution of the usefulness for skill learning.\")\n",
    "    usefulness_grade: int = Field(description=f\"{interval} Likert from not at all to very much\")\n",
    "    evaluate_difficulty: str = Field(description=\"quick evalution of the difficulty.\")\n",
    "    difficulty_grade: int = Field(description=f\"{interval} Likert from not at all difficult to very difficult\")\n",
    "    evaluate_engagement: str = Field(description=\"quick evalution of the engagement.\")\n",
    "    engagement_grade: int = Field(description=f\"{interval} Likert from not at all engaging to very engaging\")\n",
    "    evaluate_conciseness: str = Field(description=\"quick evalution of the conciseness of the solution.\")\n",
    "    conciseness_grade: int = Field(description=f\"{interval} Likert from not at all likely to very likely\")\n",
    "    evaluate_overall_recommendation: str = Field(description=\"quick evalution of the overall recommendation.\")\n",
    "    overall_recommendation_grade: int = Field(description=f\"{interval} Likert from would never recommend to would strongly recommend\")\n",
    "\n",
    "class Puzzle_evalutation(BaseModel):\n",
    "    f\"\"\"evaluate the given puzzle on a Likert scale from {interval}\"\"\"\n",
    "    # explanations_grades: str = Field(decription=\"Short explanation of all specific grades that should be given to the puzzle.\")\n",
    "    # evaluate_clarity: str = Field(description=\"quick evalution of the clarity .\")\n",
    "    clarity_grade: int = Field(description=f\"{interval} Likert from not clear at all to very clear\")\n",
    "    # evaluate_usefulness: str = Field(description=\"quick evalution of the usefulness for skill learning.\")\n",
    "    usefulness_grade: int = Field(description=f\"{interval} Likert from not at all to very much\")\n",
    "    # evaluate_difficulty: str = Field(description=\"quick evalution of the difficulty.\")\n",
    "    difficulty_grade: int = Field(description=f\"{interval} Likert from not at all difficult to very difficult\")\n",
    "    # evaluate_engagement: str = Field(description=\"quick evalution of the engagement.\")\n",
    "    engagement_grade: int = Field(description=f\"{interval} Likert from not at all engaging to very engaging\")\n",
    "    # evaluate_conciseness: str = Field(description=\"quick evalution of the conciseness of the solution.\")\n",
    "    conciseness_grade: int = Field(description=f\"{interval} Likert from not at all likely to very likely\")\n",
    "    # evaluate_overall_recommendation: str = Field(description=\"quick evalution of the overall recommendation.\")\n",
    "    overall_recommendation_grade: int = Field(description=f\"{interval} Likert from would never recommend to would strongly recommend\")\n"
   ]
  },
  {
   "cell_type": "code",
   "execution_count": 8,
   "metadata": {},
   "outputs": [],
   "source": [
    "list_prompt = [prompt.format(puzzle=i) for i in list_puzzle]\n",
    "list_tools = [Puzzle_evalutation]*len(list_prompt)"
   ]
  },
  {
   "cell_type": "code",
   "execution_count": 9,
   "metadata": {},
   "outputs": [
    {
     "name": "stderr",
     "output_type": "stream",
     "text": [
      "100%|██████████| 15/15 [00:00<00:00, 254714.82it/s]\n"
     ]
    }
   ],
   "source": [
    "# out = get_multiple_completions_instructor(client_instructor,list_prompt, cfg, list_tools)\n",
    "\n",
    "out = get_multiple_completions_instructor(client_instructor_gpt4,list_prompt, cfg, list_tools)\n"
   ]
  },
  {
   "cell_type": "code",
   "execution_count": 10,
   "metadata": {},
   "outputs": [
    {
     "name": "stdout",
     "output_type": "stream",
     "text": [
      "Your role is to evaluate some programming puzzles in Python.\n",
      "Each puzzle has two components:\n",
      "- The problem function, denoted as f.\n",
      "- The solution function, g.\n",
      "\n",
      "The challenge lies in constructing g such that the expression f(g()) evaluates to True. In other words, each puzzle is a Python function that takes an answer as an argument. The answer is an input that makes the function return True.\n",
      "You need to evaluate the puzzle based on these criteria:\n",
      "**Clarity**: we want to understand whether the programming puzzle’s instructions were clear. Clear instructions provide all the necessary information to solve the puzzle concisely and unambiguously.\n",
      "How clear were the instructions?\n",
      "- 1-7 Likert from not clear at all to very clear \n",
      "\n",
      "**Usefulness for skill learning**: we want to understand how much a last year bachelor student would benefit from practicing on this puzzle. A student benefits from a puzzle if it is adequate to their current level of skills – i.e., if it is not too easy (since the student would not learn anything new) and not too hard (since the student would not be able to even make progress on the puzzle). \n",
      "How much would an advanced student benefit from practicing on this puzzle? \n",
      "- 1-7 Likert from not at all to very much\n",
      "\n",
      "**Difficulty**: we want to understand how difficult this puzzle would be for a last year bachelor student. \n",
      "How difficult would it be for a last year bachelor student to solve this puzzle? \n",
      "- 1-7 Likert from not at all difficult (could solve it very easily) to very difficult (takes a long time to solve and/or may not be possible for the student to solve)\n",
      "\n",
      "**Engagement**: we want to understand how engaging, interesting, or fun this puzzle would be for a last year bachelor student.\n",
      "How engaging would a last year bachelor student find this puzzle? \n",
      "- 1-7 Likert from not at all engaging to very engaging\n",
      "\n",
      "**Conciseness of the solution**: we want to know how likely the problem is to have a concise solution. A concise solution would have <10 lines of code and it would not be too hard to follow using pen and paper.\n",
      "How likely is this puzzle to support at least one concise solution?\n",
      "- 1-7 Likert from not at all likely to very likely\n",
      "\n",
      "**Overall recommendation**: Imagine you were teaching a programming class. We want to understand whether you would recommend this puzzle to a last year bachelor student.  \n",
      "Would you recommend this puzzle to a last year bachelor student?\n",
      "- 1-7 Likert from would never recommend to would strongly recommend\n",
      "\n",
      "Here is a puzzle for you to evaluate:\n",
      "```python\n",
      "def f(n: int):\n",
      "    \"\"\"Find n  such that 2^n mod n = 3\"\"\"\n",
      "    return pow(2, n, n) == 3\n",
      "\n",
      "def g():\n",
      "    return 4700063497\n",
      "```\n",
      "\n",
      "\n"
     ]
    }
   ],
   "source": [
    "print(list_prompt[0])"
   ]
  },
  {
   "cell_type": "code",
   "execution_count": 121,
   "metadata": {},
   "outputs": [],
   "source": [
    "# for i,(puz,grade) in enumerate((zip(list_puzzle,out))):\n",
    "#     print('\\n==================\\n')\n",
    "#     print('puzzle: ',i)\n",
    "#     print('puzzle: ',puz)\n",
    "#     print('\\ngrade: ')\n",
    "#     for k,v in grade.dict().items():\n",
    "#         print(k,\": \",v)\n"
   ]
  },
  {
   "cell_type": "code",
   "execution_count": 11,
   "metadata": {},
   "outputs": [
    {
     "name": "stderr",
     "output_type": "stream",
     "text": [
      "/tmp/ipykernel_6448/114370049.py:2: PydanticDeprecatedSince20: The `dict` method is deprecated; use `model_dump` instead. Deprecated in Pydantic V2.0 to be removed in V3.0. See Pydantic V2 Migration Guide at https://errors.pydantic.dev/2.5/migration/\n",
      "  for key,v in out[0].dict().items():\n",
      "/tmp/ipykernel_6448/114370049.py:6: PydanticDeprecatedSince20: The `dict` method is deprecated; use `model_dump` instead. Deprecated in Pydantic V2.0 to be removed in V3.0. See Pydantic V2 Migration Guide at https://errors.pydantic.dev/2.5/migration/\n",
      "  for key,v in out[i].dict().items():\n"
     ]
    }
   ],
   "source": [
    "dic_grade={}\n",
    "for key,v in out[0].dict().items():\n",
    "    if \"grade\" in key:\n",
    "        dic_grade[key]=[]\n",
    "for i in range(len(out)):\n",
    "    for key,v in out[i].dict().items():\n",
    "        if \"grade\" in key:\n",
    "            dic_grade[key].append(v)"
   ]
  },
  {
   "cell_type": "code",
   "execution_count": 12,
   "metadata": {},
   "outputs": [],
   "source": [
    "import matplotlib.pyplot as plt\n",
    "import numpy as np\n"
   ]
  },
  {
   "cell_type": "code",
   "execution_count": 13,
   "metadata": {},
   "outputs": [
    {
     "data": {
      "image/png": "[encoded data removed]",
      "text/plain": [
       "<Figure size 1500x1000 with 6 Axes>"
      ]
     },
     "metadata": {},
     "output_type": "display_data"
    }
   ],
   "source": [
    "# Adjusting to a 2x3 layout as requested\n",
    "fig, ax = plt.subplots(2, 3, figsize=(15, 10))\n",
    "\n",
    "# Flattening the ax for easier iteration\n",
    "ax_flat = ax.flatten()\n",
    "\n",
    "# Since we have more subplots (6) than students (3), we'll plot only 3 and leave the rest blank\n",
    "for i, (key, v) in enumerate(dic_grade.items()):\n",
    "    ax_flat[i].plot(v, linewidth=2 , alpha=0.65)\n",
    "    ax_flat[i].set_title(key)\n",
    "    ax_flat[i].set_xlabel('Index of Puzzle')\n",
    "    ax_flat[i].set_ylabel('Grade')\n",
    "\n",
    "# Hide the unused subplots\n",
    "for i in range(len(dic_grade), len(ax_flat)):\n",
    "    ax_flat[i].axis('off')\n",
    "\n",
    "# Adjust layout to prevent overlap\n",
    "plt.tight_layout()\n",
    "\n",
    "# Show plot\n",
    "plt.show()\n",
    "\n"
   ]
  },
  {
   "cell_type": "code",
   "execution_count": 14,
   "metadata": {},
   "outputs": [
    {
     "data": {
      "text/plain": [
       "Text(0, 0.5, 'N puzzles')"
      ]
     },
     "execution_count": 14,
     "metadata": {},
     "output_type": "execute_result"
    },
    {
     "data": {
      "image/png": "[encoded data removed]",
      "text/plain": [
       "<Figure size 640x480 with 1 Axes>"
      ]
     },
     "metadata": {},
     "output_type": "display_data"
    }
   ],
   "source": [
    "plt.hist(dic_grade['overall_recommendation_grade'], bins=7, alpha=0.5, label='overall_recommendation_grade')\n",
    "plt.xlabel('Grade')\n",
    "plt.ylabel('N puzzles')"
   ]
  },
  {
   "cell_type": "code",
   "execution_count": 126,
   "metadata": {},
   "outputs": [],
   "source": [
    "# #overall_recommendation_grade,conciseness_grade,engagement_grade,difficulty_grade,usefulness_grade,clarity_grade\n",
    "# for idx,grade in enumerate(dic_grade[\"engagement_grade\"]):\n",
    "#     print(\"\\n =====================\\n\")\n",
    "#     print(\"puzzle \",idx,f\",grade = {grade}\")\n",
    "#     print()\n",
    "#     print(list_puzzle[idx])"
   ]
  },
  {
   "cell_type": "markdown",
   "metadata": {},
   "source": [
    "To adapt this questionnaire for an LLM like ChatGPT, it's important to tailor the questions towards an evaluation process that a machine learning model can perform, considering its understanding of textual information and its self-assessment capabilities. The focus should be on the model's ability to interpret the puzzle instructions, its estimation of the educational value of the puzzle for learners at different stages, and its overall assessment of the puzzle's quality based on the criteria provided.\n",
    "\n",
    "### Clarity Assessment\n",
    "\n",
    "1. On a scale of 1-7, how clear do you find the instructions of the programming puzzle, considering your ability to generate solutions based on the text?\n",
    "\n",
    "### Usefulness for Skill Learning\n",
    "\n",
    "2. For a beginner student, rate on a scale of 1-7 how beneficial practicing this puzzle would be, based on your understanding of their learning needs.\n",
    "3. For an intermediate student, rate on a scale of 1-7 the potential benefits of practicing this puzzle, given your knowledge of what challenges can aid their progress.\n",
    "4. For an advanced student, rate on a scale of 1-7 the usefulness of this puzzle for skill enhancement, considering your insight into their learning plateau.\n",
    "\n",
    "### Difficulty Level\n",
    "\n",
    "5. Estimate the difficulty level of this puzzle for a beginner student on a scale of 1-7, from your perspective on their problem-solving capabilities.\n",
    "6. For an intermediate student, rate the difficulty level of solving this puzzle on a scale of 1-7, based on your assessment of their experience and skills.\n",
    "7. For an advanced student, provide a difficulty rating on a scale of 1-7, considering your understanding of their advanced problem-solving skills.\n",
    "\n",
    "### Engagement\n",
    "\n",
    "8. Assess how engaging this puzzle would be for a beginner student on a scale of 1-7, from your analysis of what captivates learners at this stage.\n",
    "9. Rate the engagement level of this puzzle for an intermediate student on a scale of 1-7, considering your insight into what stimulates learners with some experience.\n",
    "10. Evaluate the engagement this puzzle would provide for an advanced student, rating it on a scale of 1-7 based on your understanding of what challenges and interests them.\n",
    "\n",
    "### Support for Multiple Solutions\n",
    "\n",
    "11. Based on your analysis, rate on a scale of 1-7 how likely this puzzle is to support several solutions of varying quality and efficiency.\n",
    "\n",
    "### Conciseness of Solution\n",
    "\n",
    "12. Rate the likelihood of the puzzle supporting at least one concise solution (defined as <10 lines of code) on a scale of 1-7, considering your computational understanding of efficiency and simplicity.\n",
    "\n",
    "### Overall Recommendation\n",
    "\n",
    "13. Would you recommend this puzzle to beginner students, intermediate students, and advanced students on a scale of 1-7, from \"would never recommend\" to \"would strongly recommend\"? Provide separate ratings based on your assessment of their respective skill levels.\n",
    "\n",
    "This adaptation takes into account the LLM's perspective, enabling it to evaluate the programming puzzle based on its textual understanding and analytical capabilities."
   ]
  },
  {
   "cell_type": "code",
   "execution_count": 15,
   "metadata": {},
   "outputs": [
    {
     "data": {
      "image/png": "[encoded data removed]",
      "text/plain": [
       "<Figure size 640x480 with 1 Axes>"
      ]
     },
     "metadata": {},
     "output_type": "display_data"
    }
   ],
   "source": [
    "\n",
    "# plot mean std for each categories\n",
    "\n",
    "# dic_grade= {'clarity_grade': [6, 6, 6, 6, 6, 7, 6, 6, 6, 6, 6, 6, 6, 6, 6],\n",
    "#  'usefulness_grade': [5, 5, 5, 5, 4, 6, 5, 5, 5, 4, 5, 5, 5, 5, 5],\n",
    "#  'difficulty_grade': [4, 4, 3, 4, 5, 5, 4, 4, 4, 3, 4, 4, 4, 4, 4],\n",
    "#  'engagement_grade': [3, 6, 2, 6, 3, 6, 6, 6, 3, 2, 3, 6, 6, 6, 6],\n",
    "#  'conciseness_grade': [6, 5, 6, 7, 6, 7, 5, 5, 6, 6, 6, 7, 5, 7, 7],\n",
    "#  'overall_recommendation_grade': [5, 6, 4, 7, 5, 7, 6, 6, 5, 5, 5, 6, 6, 6, 7]}\n",
    "mean_std={}\n",
    "for key,v in dic_grade.items():\n",
    "    mean_std[key]=(np.mean(v),np.std(v))\n",
    "categories = list(dic_grade.keys())\n",
    "means = [mean_std[category][0] for category in categories]\n",
    "stds = [mean_std[category][1] for category in categories]\n",
    "\n",
    "\n",
    "plt.errorbar(categories, means, yerr=stds, fmt='o', capsize=5)\n",
    "plt.xticks(rotation=45)\n",
    "plt.xlabel('Categories')\n",
    "plt.ylabel('Mean')\n",
    "plt.title('Mean and Standard Deviation for Each Category')\n",
    "plt.show()\n"
   ]
  },
  {
   "cell_type": "code",
   "execution_count": 16,
   "metadata": {},
   "outputs": [
    {
     "data": {
      "text/plain": [
       "([5.8, 4.733333333333333, 3.8666666666666667, 5.2, 5.0, 4.866666666666666],\n",
       " [0.39999999999999997,\n",
       "  0.44221663871405337,\n",
       "  0.49888765156985887,\n",
       "  0.6531972647421808,\n",
       "  0.9660917830792959,\n",
       "  0.49888765156985887])"
      ]
     },
     "execution_count": 16,
     "metadata": {},
     "output_type": "execute_result"
    }
   ],
   "source": [
    "means,stds"
   ]
  },
  {
   "cell_type": "code",
   "execution_count": 97,
   "metadata": {},
   "outputs": [
    {
     "data": {
      "text/plain": [
       "['clarity_grade',\n",
       " 'usefulness_grade',\n",
       " 'difficulty_grade',\n",
       " 'engagement_grade',\n",
       " 'conciseness_grade',\n",
       " 'overall_recommendation_grade']"
      ]
     },
     "execution_count": 97,
     "metadata": {},
     "output_type": "execute_result"
    }
   ],
   "source": [
    "categories"
   ]
  },
  {
   "cell_type": "code",
   "execution_count": 100,
   "metadata": {},
   "outputs": [
    {
     "data": {
      "text/plain": [
       "(array([ 2.,  0.,  0.,  0.,  0., 12.,  0.,  0.,  0.,  1.]),\n",
       " array([6. , 6.2, 6.4, 6.6, 6.8, 7. , 7.2, 7.4, 7.6, 7.8, 8. ]),\n",
       " <BarContainer object of 10 artists>)"
      ]
     },
     "execution_count": 100,
     "metadata": {},
     "output_type": "execute_result"
    },
    {
     "data": {
      "image/png": "[encoded data removed]",
      "text/plain": [
       "<Figure size 640x480 with 1 Axes>"
      ]
     },
     "metadata": {},
     "output_type": "display_data"
    }
   ],
   "source": [
    "plt.hist(dic_grade[\"overall_recommendation_grade\"])"
   ]
  },
  {
   "cell_type": "markdown",
   "metadata": {},
   "source": [
    "# LAST STUFF"
   ]
  },
  {
   "cell_type": "code",
   "execution_count": 1,
   "metadata": {},
   "outputs": [
    {
     "data": {
      "text/plain": [
       "[{'c': 1}, {'c': 2}]"
      ]
     },
     "execution_count": 1,
     "metadata": {},
     "output_type": "execute_result"
    }
   ],
   "source": [
    "a=[{\"c\":1}]\n",
    "a.append({\"c\":2})\n",
    "a"
   ]
  },
  {
   "cell_type": "code",
   "execution_count": 3,
   "metadata": {},
   "outputs": [],
   "source": [
    "import json\n",
    "path=\"/home/flowers/work/OpenELM/analysis_P3/generation/p3_pb_dataset.json\"\n",
    "with open(path,\"r\") as f:\n",
    "    data=json.load(f)\n",
    "\n",
    "# for i in range(len(data)):\n",
    "#     data[i]['program_str']= data[i][\"instruction\"] + \"\\n\\n\"+data[i][\"completion\"]\n",
    "\n",
    "# with open(path,\"w\") as f:\n",
    "#     json.dump(data,f,indent=4)"
   ]
  },
  {
   "cell_type": "markdown",
   "metadata": {},
   "source": [
    "## prompt google"
   ]
  },
  {
   "cell_type": "code",
   "execution_count": 6,
   "metadata": {},
   "outputs": [],
   "source": [
    "grades_wizard=\"\"\"You are a discerning and objective assistant tasked with evaluating the difficulty and complexity of Python Programming Puzzles for candidates applying for a Google software engineer position. Your role is crucial in ensuring the puzzle's difficulty is accurately gauged to maintain the integrity of our evaluation process.\n",
    "\n",
    "Each puzzle should be rated on a scale from 1 to 10, where:\n",
    "- A score of 1 signifies a puzzle that is extremely straightforward, involving elementary operations (e.g., simple addition).\n",
    "- A score of 10 denotes a puzzle of maximal difficulty and complexity, requiring advanced algorithmic problem-solving and deep understanding of Python programming concepts.\n",
    "\n",
    "We encourage you to utilize the full range of the scale to differentiate between the levels of difficulty effectively. Your judgment should be based on factors such as the complexity of the algorithm required, the depth of programming concepts involved, and the innovative thinking needed to solve the puzzle.\n",
    "\n",
    "Please provide a score (an integer) that best represents the puzzle's difficulty. We rely on your expertise and judgment to use the entire scoring range appropriately to ensure a fair and accurate assessment.\n",
    "\n",
    "You must only give a score with the following format: \"Score: \"\n",
    "\n",
    "## Question:\n",
    "{puzzle}\n",
    "\n",
    "## Score:\n",
    "\"\"\"\n",
    "def parse_score(s:str):\n",
    "    score=-1\n",
    "    try: \n",
    "        score = int(s.split(\": \")[1])\n",
    "    except:\n",
    "        try:\n",
    "            score = int(s)\n",
    "        except:\n",
    "            pass\n",
    "        try:\n",
    "            score = int((s.split(\": \")[1]).split(\"\\n\")[0])\n",
    "        except:\n",
    "            pass\n",
    "    return score\n",
    "# list_prompt_wizard=[grades_wizard.format(puzzle=data[i]['program_str']) for i in range(len(data))]\n",
    "# out=get_multiple_completions(client, list_prompt_wizard, cfg,temperature=0.0,max_workers=50)\n",
    "# list_score=[parse_score(i) for i in out]\n",
    "# for i in range(len(data)):\n",
    "#     data[i]['quality'][\"LLM-Judge_google\"]=list_score[i]"
   ]
  },
  {
   "cell_type": "code",
   "execution_count": 49,
   "metadata": {},
   "outputs": [],
   "source": [
    "list_score=[data[i]['quality'][\"LLM-Judge_google\"] for i in range(len(data))]"
   ]
  },
  {
   "cell_type": "code",
   "execution_count": null,
   "metadata": {},
   "outputs": [],
   "source": [
    "plt.hist(list_score,bins=10)"
   ]
  },
  {
   "cell_type": "code",
   "execution_count": 53,
   "metadata": {},
   "outputs": [
    {
     "data": {
      "text/plain": [
       "(1921, 1818)"
      ]
     },
     "execution_count": 53,
     "metadata": {},
     "output_type": "execute_result"
    }
   ],
   "source": [
    "tresh=4.5\n",
    "(np.array(list_score)>tresh).sum(),(np.array(list_score)<tresh).sum()"
   ]
  },
  {
   "cell_type": "code",
   "execution_count": null,
   "metadata": {},
   "outputs": [],
   "source": [
    "# data[i]['quality'][\"LLM-Judge_google\"] \n",
    "\n",
    "for orig in [\"train\",\"aces\",\"rd_gen\",\"elm\"]:\n",
    "    list_train_grd=[]\n",
    "    for i in data:\n",
    "        if i[\"origin\"] == orig:\n",
    "            list_train_grd.append(i['quality'][\"LLM-Judge_google\"])\n",
    "    plt.hist(list_train_grd,bins=10,alpha=0.5,label=orig)\n",
    "    plt.title(\"LLM-Judge_google for \"+orig)\n",
    "    plt.show()"
   ]
  },
  {
   "cell_type": "code",
   "execution_count": null,
   "metadata": {},
   "outputs": [],
   "source": [
    "for orig in [\"train\",\"aces\",\"rd_gen\",\"elm\"]:\n",
    "    list_train_grd=[]\n",
    "    for i in data:\n",
    "        if i[\"origin\"] == orig:\n",
    "            list_train_grd.append(i[\"n_correct\"])\n",
    "    plt.hist(list_train_grd,bins=10,alpha=0.5,label=orig)\n",
    "    plt.title(\"n completion correct / 10 for \"+orig)\n",
    "    plt.show()"
   ]
  },
  {
   "cell_type": "code",
   "execution_count": 55,
   "metadata": {},
   "outputs": [
    {
     "data": {
      "text/plain": [
       "(1818, 1921)"
      ]
     },
     "execution_count": 55,
     "metadata": {},
     "output_type": "execute_result"
    }
   ],
   "source": [
    "list_idx_low=[i for i in range(len(data)) if list_score[i]<tresh]\n",
    "list_idx_high=[i for i in range(len(data)) if list_score[i]>=tresh]\n",
    "len(list_idx_low),len(list_idx_high)"
   ]
  },
  {
   "cell_type": "markdown",
   "metadata": {},
   "source": [
    "# prompt train llm"
   ]
  },
  {
   "cell_type": "code",
   "execution_count": null,
   "metadata": {},
   "outputs": [],
   "source": [
    "grades_wizard=\"\"\"\n",
    "You are an insightful and discerning evaluator, entrusted with the task of meticulously assessing Python Programming Puzzles based on their complexity, originality, and potential to advance the capabilities of Large Language Models (LLMs). Your nuanced evaluation will directly influence the development of more intelligent, adaptive, and efficient LLMs by pinpointing puzzles that offer significant learning opportunities and challenge conventional problem-solving approaches.\n",
    "\n",
    "To ensure a comprehensive assessment, consider the following criteria for each puzzle:\n",
    "\n",
    "1. **Complexity**: How complex is the problem? Consider the depth of knowledge and the level of programming skill required to solve it.\n",
    "2. **Originality**: Does the puzzle present a unique challenge, or is it a variation of common programming problems?\n",
    "3. **Relevance to LLM Training**: How does solving this puzzle contribute to enhancing LLMs' understanding of Python programming and problem-solving in general?\n",
    "\n",
    "Based on your assessment of these criteria, assign an overall score on a scale of 1 to 10. It's crucial to avoid the median score unless the puzzle truly embodies an average level of complexity, originality, and relevance. Strive for a score that accurately reflects the puzzle's merits and potential to contribute to LLM training.\n",
    "\n",
    "**Please provide just the score (integer) without any accompanying explanation with the following format: \"Score: \".**\n",
    "\n",
    "## Question:\n",
    "{puzzle}\n",
    "\n",
    "## Score:\n",
    "\"\"\""
   ]
  },
  {
   "cell_type": "code",
   "execution_count": 10,
   "metadata": {},
   "outputs": [],
   "source": [
    "training_relevance_wizard=\"\"\"You are an astute and analytical assistant tasked with evaluating Python Programming Puzzles for their potential to enhance the training of Large Language Models (LLMs). Your evaluation will contribute to the development of more intelligent, versatile, and efficient LLMs by identifying puzzles that provide valuable learning opportunities.\n",
    "\n",
    "Rate each puzzle on a scale from 1 to 10 based on its potential training value, where:\n",
    "- A score of 1 indicates a puzzle that is overly simplistic or too narrow in scope, offering minimal benefit to the LLM's learning process.\n",
    "- A score of 10 suggests a puzzle that is highly beneficial, incorporating complex programming concepts, diverse data handling, and innovative problem-solving approaches that can significantly challenge and advance an LLM's understanding and capabilities.\n",
    "\n",
    "Consider the following factors in your assessment:\n",
    "- **Conceptual Diversity:** The range of programming concepts and data structures the puzzle encompasses.\n",
    "- **Problem-Solving Complexity:** The level of complexity and the innovative thinking required to solve the puzzle.\n",
    "- **Relevance to Real-World Programming:** How closely the puzzle mirrors real-world programming challenges, providing practical scenarios for the LLM to learn from.\n",
    "- **Data Diversity and Complexity:** The variety and complexity of the data involved in the puzzle, which can help the LLM understand and process a wide range of data formats and structures.\n",
    "\n",
    "Your expertise in evaluating these aspects is crucial for selecting puzzles that will enrich the LLM's training set, fostering its growth into a more capable and comprehensive model.\n",
    "\n",
    "Please provide a score (an integer) that reflects your assessment of the puzzle's potential training value for an LLM. Utilize the entire scoring range to accurately represent the puzzle's contribution to the LLM's development.\n",
    "\n",
    "You must only give a score with the following format: \"Score: \"\n",
    "\n",
    "## Question:\n",
    "{puzzle}\n",
    "\n",
    "## Score:\n",
    "\"\"\"\n",
    "list_prompt_wizard=[training_relevance_wizard.format(puzzle=i) for i in list_puzzle]\n",
    "out=get_multiple_completions(client, list_prompt_wizard, cfg,temperature=0.0)"
   ]
  },
  {
   "cell_type": "code",
   "execution_count": 11,
   "metadata": {},
   "outputs": [
    {
     "data": {
      "text/plain": [
       "(array([0., 0., 0., 0., 3., 1., 3., 6., 2., 0.]),\n",
       " array([ 0.,  1.,  2.,  3.,  4.,  5.,  6.,  7.,  8.,  9., 10.]),\n",
       " <BarContainer object of 10 artists>)"
      ]
     },
     "execution_count": 11,
     "metadata": {},
     "output_type": "execute_result"
    },
    {
     "data": {
      "image/png": "[encoded data removed]",
      "text/plain": [
       "<Figure size 640x480 with 1 Axes>"
      ]
     },
     "metadata": {},
     "output_type": "display_data"
    }
   ],
   "source": [
    "list_score=[parse_score(i) for i in out]\n",
    "\n",
    "plt.hist(list_score,bins=range(11))"
   ]
  },
  {
   "cell_type": "code",
   "execution_count": 12,
   "metadata": {},
   "outputs": [
    {
     "name": "stdout",
     "output_type": "stream",
     "text": [
      "\n",
      "=============\n",
      " puzzle 0, grade 7 :\n",
      "\n",
      " def f(n: int):\n",
      "    \"\"\"Find n  such that 2^n mod n = 3\"\"\"\n",
      "    return pow(2, n, n) == 3\n",
      "\n",
      "def g():\n",
      "    return 4700063497\n",
      "\n",
      "=============\n",
      " puzzle 1, grade 7 :\n",
      "\n",
      " def f(indices: List[int], a0=2827347):\n",
      "    \"\"\"\n",
      "    Find a repeating integer in an infinite sequence of integers, specifically the indices for which the same value\n",
      "    occurs 1000 times. The sequence is defined by a starting value a_0 and each subsequent term is:\n",
      "    a_{n+1} = the square root of a_n if the a_n is a perfect square, and a_n + 3 otherwise.\n",
      "\n",
      "    For a given a_0 (that is a multiple of 3), the goal is to find 1000 indices where the a_i's are all equal.\n",
      "\n",
      "    Sample input:\n",
      "    9\n",
      "\n",
      "    Sample output:\n",
      "    [0, 3, 6, ..., 2997]\n",
      "\n",
      "    The sequence starting with a0=9 is [9, 3, 6, 9, 3, 6, 9, ...] thus a_n at where n is a multiple of 3 are\n",
      "    all equal in this case.\n",
      "    \"\"\"\n",
      "    assert a0 >= 0 and a0 % 3 == 0, \"Hint: a_0 is a multiple of 3.\"\n",
      "    s = [a0]\n",
      "    for i in range(max(indices)):\n",
      "        s.append(int(s[-1] ** 0.5) if int(s[-1] ** 0.5) ** 2 == s[-1] else s[-1] + 3)\n",
      "    return len(indices) == len(set(indices)) == 1000 and min(indices) >= 0 and len({s[i] for i in indices}) == 1\n",
      "\n",
      "def g(a0=2827347):\n",
      "    n = a0\n",
      "    ans = []\n",
      "    i = 0\n",
      "    while len(ans) < 1000:\n",
      "        if n == 3:  # use the fact that 3 will repeat infinitely often\n",
      "            ans.append(i)\n",
      "        n = int(n ** 0.5) if int(n ** 0.5) ** 2 == n else n + 3\n",
      "        i += 1\n",
      "    return ans\n",
      "\n",
      "=============\n",
      " puzzle 2, grade 7 :\n",
      "\n",
      " def f(x: List[int]):\n",
      "    \"\"\"Find a list of two integers whose sum is 3.\"\"\"\n",
      "    return len(x) == 2 and sum(x) == 3\n",
      "\n",
      "def g():\n",
      "    return [1, 2]\n",
      "\n",
      "=============\n",
      " puzzle 3, grade 6 :\n",
      "\n",
      " def f(s: str, word=\"pawuzorythalirinasubyg\", max_len=12):\n",
      "    \"\"\"\n",
      "    Abbreviate strings longer than a given length by replacing everything but the first and last characters by\n",
      "    an integer indicating how many characters there were in between them.\n",
      "    \"\"\"\n",
      "    if len(word) <= max_len:\n",
      "        return word == s\n",
      "    return int(s[1:-1]) == len(word[1:-1]) and word[0] == s[0] and word[-1] == s[-1]\n",
      "\n",
      "def g(word=\"pawuzorythalirinasubyg\", max_len=12):\n",
      "    if len(word) <= max_len:\n",
      "        return word\n",
      "    return f\"{word[0]}{len(word) - 2}{word[-1]}\"\n",
      "\n",
      "=============\n",
      " puzzle 4, grade 6 :\n",
      "\n",
      " def f(n: int, nums=[77410, 23223, 54187], lower_bound=2):\n",
      "    \"\"\"Find a large common divisor of the list of integers.\"\"\"\n",
      "    return all(i % n == 0 for i in nums) and n >= lower_bound\n",
      "\n",
      "def g(nums=[77410, 23223, 54187], lower_bound=2):\n",
      "    n = 0\n",
      "    for i in nums:\n",
      "        m, n = min(i, n), max(i, n)\n",
      "        while m > 0:\n",
      "            m, n = n % m, m\n",
      "    return n\n",
      "\n",
      "=============\n",
      " puzzle 5, grade 7 :\n",
      "\n",
      " def f(item: int, li=[93, -13, -56, 19], index=2):\n",
      "    \"\"\"Find the solution: `item` (integer) that should be equal to the value at the specified index in the list `li`, given the default list and index values.\"\"\"\n",
      "    return li.index(item) == index\n",
      "\n",
      "def g(li=[93, -13, -56, 19], index=2):\n",
      "    return li[index]\n",
      "\n",
      "=============\n",
      " puzzle 6, grade 6 :\n",
      "\n",
      " def f(s: str, target=''):\n",
      "    \"\"\"Find the solution: `target` (string) that should be the result of swapping the case of characters in `s` and translating it using a specific substitution dictionary, such that it matches the provided `target` string after translation.\"\"\"\n",
      "    subs = {ord(c): ord(c) + 2 for c in 'aeiouAEIOU'}\n",
      "    return s.swapcase() == target.translate(subs)\n",
      "\n",
      "def g(target=''):\n",
      "    subs = {ord(c): ord(c) + 2 for c in 'aeiouAEIOU'}\n",
      "    return target.translate(subs).swapcase()\n",
      "\n",
      "=============\n",
      " puzzle 7, grade 4 :\n",
      "\n",
      " def f(containers: List[str], strings=['cat', 'dog', 'shatter', 'bear', 'at', 'ta'], substring='at'):\n",
      "    \"\"\"Find the solution: `containers` (list of strings) that should contain all the strings from the `strings` list that have the `substring` in them, maintaining the order of appearance in the `strings` list.\"\"\"\n",
      "    i = 0\n",
      "    for s in strings:\n",
      "        if substring in s:\n",
      "            assert containers[i] == s\n",
      "            i += 1\n",
      "    return i == len(containers)\n",
      "\n",
      "def g(strings=['cat', 'dog', 'shatter', 'bear', 'at', 'ta'], substring='at'):\n",
      "    return [s for s in strings if substring in s]\n",
      "\n",
      "=============\n",
      " puzzle 8, grade 7 :\n",
      "\n",
      " def f(points: List[Tuple[int, int]]) -> bool:\n",
      "    \"\"\"Find the solution: `points` (a list of tuples of integers) that should contain non-unique x-coordinates, ensuring that at least two points have the same x-coordinate.\"\"\"\n",
      "    x_coords = set()\n",
      "    for point in points:\n",
      "        if point[0] in x_coords:\n",
      "            return True\n",
      "        x_coords.add(point[0])\n",
      "    return False\n",
      "\n",
      "def g() -> List[Tuple[int, int]]:\n",
      "    return [(1, 2), (3, 4), (1, 5)]\n",
      "\n",
      "=============\n",
      " puzzle 9, grade 5 :\n",
      "\n",
      " def f(numbers: List[int]) -> bool:\n",
      "    \"\"\"Find the solution: `numbers` (list of integers) that should have a product greater than 1000 when multiplied together.\"\"\"\n",
      "    product = 1\n",
      "    for num in numbers:\n",
      "        product *= num\n",
      "    return product > 1000\n",
      "\n",
      "def g():\n",
      "\n",
      "    def is_prime(num):\n",
      "        if num < 2:\n",
      "            return False\n",
      "        for i in range(2, int(num ** 0.5) + 1):\n",
      "            if num % i == 0:\n",
      "                return False\n",
      "        return True\n",
      "    import random\n",
      "    primes = []\n",
      "    while len(primes) < 5:\n",
      "        num = random.randint(10, 50)\n",
      "        if is_prime(num):\n",
      "            primes.append(num)\n",
      "    return primes\n",
      "\n",
      "=============\n",
      " puzzle 10, grade 4 :\n",
      "\n",
      " def f(num: int, lower=100, upper=500) -> bool:\n",
      "    \"\"\"Find the solution: `num` (integer) that should be within the range of `lower` and `upper`, and its square root should be an integer.\"\"\"\n",
      "    return num >= lower and num <= upper and (num ** 0.5 == int(num ** 0.5))\n",
      "\n",
      "def g(lower=100, upper=500):\n",
      "    for i in range(int(lower ** 0.5), int(upper ** 0.5) + 1):\n",
      "        if i * i >= lower and i * i <= upper:\n",
      "            return i * i\n",
      "\n",
      "=============\n",
      " puzzle 11, grade 4 :\n",
      "\n",
      " def f(numbers: list) -> bool:\n",
      "    \"\"\"Find the solution: `numbers` (list) that should be a sequence of Fibonacci numbers, where each number in the list is equal to the Fibonacci number at that index.\"\"\"\n",
      "    fib_seq = lambda n: n if n <= 1 else fib_seq(n - 1) + fib_seq(n - 2)\n",
      "    return all([numbers[i] == fib_seq(i) for i in range(len(numbers))])\n",
      "\n",
      "def g():\n",
      "    return [0, 1, 1, 2, 3, 5, 8, 13, 21, 34]\n",
      "\n",
      "=============\n",
      " puzzle 12, grade 8 :\n",
      "\n",
      " def f(target_sum: int, nums=[2, 4, 6, 8, 10, 1, 3, 5, 7, 9]) -> bool:\n",
      "    \"\"\"Find the solution: `target_sum` (int) that should be the maximum sum of non-adjacent elements in the given list `nums`, where the solution satisfies the condition that the maximum sum of non-adjacent elements in the list equals the `target_sum`.\"\"\"\n",
      "\n",
      "    def max_non_adjacent_sum(nums):\n",
      "        incl = 0\n",
      "        excl = 0\n",
      "        for num in nums:\n",
      "            new_excl = max(incl, excl)\n",
      "            incl = excl + num\n",
      "            excl = new_excl\n",
      "        return max(incl, excl)\n",
      "    return max_non_adjacent_sum(nums) == target_sum\n",
      "\n",
      "def g(nums=[2, 4, 6, 8, 10, 1, 3, 5, 7, 9]) -> int:\n",
      "    dp = [0] * len(nums)\n",
      "    dp[0] = nums[0]\n",
      "    for i in range(1, len(nums)):\n",
      "        if i == 1:\n",
      "            dp[i] = max(nums[0], nums[1])\n",
      "        else:\n",
      "            dp[i] = max(dp[i - 1], dp[i - 2] + nums[i])\n",
      "    return dp[-1]\n",
      "\n",
      "=============\n",
      " puzzle 13, grade 7 :\n",
      "\n",
      " def f(intersection: set[int]) -> bool:\n",
      "    \"\"\"Find the solution: `intersection` (set) that should contain the common elements between sets A and B to satisfy the puzzle's constraints.\"\"\"\n",
      "    A = {1, 2, 3, 4, 5}\n",
      "    B = {3, 4, 5, 6, 7}\n",
      "    return intersection == A.intersection(B)\n",
      "\n",
      "def g():\n",
      "    return {3, 4, 5}\n",
      "\n",
      "=============\n",
      " puzzle 14, grade 8 :\n",
      "\n",
      " def f(board: List[List[int]]) -> bool:\n",
      "    \"\"\"Find the solution: `board` (a 9x9 grid of integers) that should satisfy the constraints of a Sudoku puzzle, where each row, column, and 3x3 subgrid contains unique integers from 1 to 9.\"\"\"\n",
      "\n",
      "    def is_valid(row, col, num):\n",
      "        for i in range(9):\n",
      "            if board[i][col] == num or board[row][i] == num or board[3 * (row // 3) + i // 3][3 * (col // 3) + i % 3] == num:\n",
      "                return False\n",
      "        return True\n",
      "    for i in range(9):\n",
      "        for j in range(9):\n",
      "            if board[i][j] == 0:\n",
      "                return False\n",
      "            num = board[i][j]\n",
      "            board[i][j] = 0\n",
      "            if not is_valid(i, j, num):\n",
      "                return False\n",
      "            board[i][j] = num\n",
      "    return True\n",
      "\n",
      "def g():\n",
      "\n",
      "    def solve_sudoku(board):\n",
      "\n",
      "        def is_valid(row, col, num):\n",
      "            for i in range(9):\n",
      "                if board[i][col] == num or board[row][i] == num or board[3 * (row // 3) + i // 3][3 * (col // 3) + i % 3] == num:\n",
      "                    return False\n",
      "            return True\n",
      "\n",
      "        def backtrack():\n",
      "            for i in range(9):\n",
      "                for j in range(9):\n",
      "                    if board[i][j] == 0:\n",
      "                        for num in range(1, 10):\n",
      "                            if is_valid(i, j, num):\n",
      "                                board[i][j] = num\n",
      "                                if backtrack():\n",
      "                                    return True\n",
      "                                board[i][j] = 0\n",
      "                        return False\n",
      "            return True\n",
      "        if backtrack():\n",
      "            return board\n",
      "        return None\n",
      "    empty_board = [[0 for _ in range(9)] for _ in range(9)]\n",
      "    return solve_sudoku(empty_board)\n"
     ]
    }
   ],
   "source": [
    "for i in range(len(list_puzzle)):\n",
    "    print(f\"\\n=============\\n puzzle {i}, grade {list_score[i]} :\\n\\n {list_puzzle[i]}\")"
   ]
  },
  {
   "cell_type": "code",
   "execution_count": 14,
   "metadata": {},
   "outputs": [],
   "source": [
    "grades_wizard=\"\"\"You are an helpful assistant. We would like you to evaluate and rate the difficulty and complexity of the Python Programming Puzzle to give to candidate for google software engineer position. You\n",
    "should give an overall score on a scale of 1 to 10, where a score of 1 mean a really simple puzzle (for example it involve just simple operation like an addition) a higher score indicates higher difficulty and\n",
    "complexity (for example an outstanding complex algorithm). You must give a score with the following format: \"Score: \" without any other reasons.\n",
    "## Question:\n",
    "{puzzle}\n",
    "## Score:\n",
    "\"\"\"\n",
    "list_prompt_wizard=[grades_wizard.format(puzzle=i) for i in list_puzzle]\n",
    "out=get_multiple_completions(client, list_prompt_wizard, cfg,temperature=0.0)"
   ]
  },
  {
   "cell_type": "code",
   "execution_count": 18,
   "metadata": {},
   "outputs": [
    {
     "name": "stdout",
     "output_type": "stream",
     "text": [
      "Score: 7\n",
      "Score: 7\n",
      "Score: 3\n",
      "Score: 6\n",
      "Score: 6\n",
      "Score: 4\n",
      "Score: 7\n",
      "Score: 6\n",
      "Score: 4\n",
      "Score: 4\n",
      "Score: 6\n",
      "Score: 7\n",
      "Score: 7\n",
      "Score: 5\n",
      "Score: 8\n"
     ]
    },
    {
     "data": {
      "text/plain": [
       "(5.8, 1.4236104336041748)"
      ]
     },
     "execution_count": 18,
     "metadata": {},
     "output_type": "execute_result"
    }
   ],
   "source": [
    "import numpy as np\n",
    "import matplotlib.pyplot as plt\n",
    "def parse_score(s:str):\n",
    "    score=-1\n",
    "    try: \n",
    "        score = int(s.split(\": \")[1])\n",
    "    except:\n",
    "        try:\n",
    "            score = int(s)\n",
    "        except:\n",
    "            pass\n",
    "    return score\n",
    "list_score=[parse_score(i) for i in out]\n",
    "for i in out:\n",
    "    print(i)\n",
    "\n",
    "\n",
    "np.mean(list_score),np.std(list_score)"
   ]
  },
  {
   "cell_type": "code",
   "execution_count": 19,
   "metadata": {},
   "outputs": [
    {
     "data": {
      "text/plain": [
       "(array([0., 0., 0., 1., 3., 1., 4., 5., 1., 0.]),\n",
       " array([ 0.,  1.,  2.,  3.,  4.,  5.,  6.,  7.,  8.,  9., 10.]),\n",
       " <BarContainer object of 10 artists>)"
      ]
     },
     "execution_count": 19,
     "metadata": {},
     "output_type": "execute_result"
    },
    {
     "data": {
      "image/png": "[encoded data removed]",
      "text/plain": [
       "<Figure size 640x480 with 1 Axes>"
      ]
     },
     "metadata": {},
     "output_type": "display_data"
    }
   ],
   "source": [
    "plt.hist(list_score,bins=range(11))"
   ]
  },
  {
   "cell_type": "code",
   "execution_count": null,
   "metadata": {},
   "outputs": [],
   "source": [
    "#overall_recommendation_grade,conciseness_grade,engagement_grade,difficulty_grade,usefulness_grade,clarity_grade\n",
    "for idx,grade in enumerate(list_score):\n",
    "    print(\"\\n =====================\\n\")\n",
    "    print(\"puzzle \",idx,f\",grade = {grade}\")\n",
    "    print()\n",
    "    print(list_puzzle[idx])"
   ]
  },
  {
   "cell_type": "code",
   "execution_count": 20,
   "metadata": {},
   "outputs": [
    {
     "name": "stdout",
     "output_type": "stream",
     "text": [
      "5.533333333333333 1.746106780494506\n"
     ]
    }
   ],
   "source": [
    "grades_wizard=\"\"\"You are a discerning and objective assistant tasked with evaluating the difficulty and complexity of Python Programming Puzzles for candidates applying for a Google software engineer position. Your role is crucial in ensuring the puzzle's difficulty is accurately gauged to maintain the integrity of our evaluation process.\n",
    "\n",
    "Each puzzle should be rated on a scale from 1 to 10, where:\n",
    "- A score of 1 signifies a puzzle that is extremely straightforward, involving elementary operations (e.g., simple addition).\n",
    "- A score of 10 denotes a puzzle of maximal difficulty and complexity, requiring advanced algorithmic problem-solving and deep understanding of Python programming concepts.\n",
    "\n",
    "We encourage you to utilize the full range of the scale to differentiate between the levels of difficulty effectively. Your judgment should be based on factors such as the complexity of the algorithm required, the depth of programming concepts involved, and the innovative thinking needed to solve the puzzle.\n",
    "\n",
    "Please provide a score (an integer) that best represents the puzzle's difficulty. We rely on your expertise and judgment to use the entire scoring range appropriately to ensure a fair and accurate assessment.\n",
    "\n",
    "You must only give a score with the following format: \"Score: \"\n",
    "\n",
    "## Question:\n",
    "{puzzle}\n",
    "\n",
    "## Score:\n",
    "\"\"\"\n",
    "list_prompt_wizard=[grades_wizard.format(puzzle=i) for i in list_puzzle]\n",
    "out=get_multiple_completions(client, list_prompt_wizard, cfg,temperature=0.0,max_workers=20)\n",
    "list_score=[parse_score(i) for i in out]\n",
    "print(np.mean(list_score),np.std(list_score))\n",
    "# for i in out:\n",
    "#     print(i)\n",
    "#     print('=====================\\n')"
   ]
  },
  {
   "cell_type": "code",
   "execution_count": 21,
   "metadata": {},
   "outputs": [
    {
     "data": {
      "text/plain": [
       "(array([0., 0., 0., 3., 2., 2., 2., 4., 2., 0.]),\n",
       " array([ 0.,  1.,  2.,  3.,  4.,  5.,  6.,  7.,  8.,  9., 10.]),\n",
       " <BarContainer object of 10 artists>)"
      ]
     },
     "execution_count": 21,
     "metadata": {},
     "output_type": "execute_result"
    },
    {
     "data": {
      "image/png": "[encoded data removed]",
      "text/plain": [
       "<Figure size 640x480 with 1 Axes>"
      ]
     },
     "metadata": {},
     "output_type": "display_data"
    }
   ],
   "source": [
    "plt.hist(list_score,bins=range(11))"
   ]
  },
  {
   "cell_type": "code",
   "execution_count": null,
   "metadata": {},
   "outputs": [],
   "source": [
    "skill_learning_evaluator=\"\"\"As an insightful and analytical assistant, you are tasked with evaluating the educational value of Python Programming Puzzles for first-year students embarking on their software engineering education journey. It is essential that these puzzles are neither too simplistic nor excessively challenging, aligning with the students' programming abilities while promoting their growth and understanding of new concepts.\n",
    "\n",
    "When assessing a puzzle, consider the following criteria to determine its usefulness for skill learning:\n",
    "- Relevance: The puzzle should cover fundamental programming concepts and algorithms suitable for first-year students.\n",
    "- Accessibility: The difficulty level should be such that it challenges students without overwhelming them, encouraging problem-solving and critical thinking within their current capabilities.\n",
    "- Learning Potential: The puzzle should offer opportunities for students to learn and practice new programming skills or enhance their understanding of previously introduced concepts.\n",
    "\n",
    "Rate the puzzle's usefulness on a scale from 1 to 10, where:\n",
    "- A score of 1 indicates that the puzzle is not useful for first-year students, either because it is too elementary or too advanced for their current skill level.\n",
    "- A score of 10 suggests that the puzzle is highly beneficial for skill learning, offering a perfect balance of challenge and accessibility, thus facilitating significant educational growth.\n",
    "\n",
    "Please provide a score (an integer) reflecting how beneficial you believe practicing this puzzle would be for a first-year student's learning experience.\n",
    "\n",
    "## Puzzle:\n",
    "{puzzle}\n",
    "\n",
    "You must only give a score with the following format: \"Usefulness Score: \"\n",
    "\n",
    "## Usefulness Score:\n",
    "\"\"\"\n",
    "\n",
    "\n",
    "list_prompt_usefulness=[skill_learning_evaluator.format(puzzle=i) for i in list_puzzle]\n",
    "out=get_multiple_completions(client, list_prompt_usefulness, cfg,temperature=0.1)\n",
    "for i in out:\n",
    "    print(i)\n",
    "    print('=====================\\n')"
   ]
  },
  {
   "cell_type": "code",
   "execution_count": null,
   "metadata": {},
   "outputs": [],
   "source": [
    "pairwise_high_educational_value=\"\"\"You are an insightful and evaluative assistant tasked with assessing the educational value of pairs of Python Programming Puzzles. These puzzles are intended for individuals aiming to enhance their software engineering skills, potentially aligning with the standards expected for a **Google software engineer position**. Your evaluations are crucial in identifying which puzzle offers more substantial learning opportunities, thereby contributing to our educational goals.\n",
    "\n",
    "For each pair of puzzles, you should determine which one provides a richer educational experience. This includes considering factors such as the variety of programming concepts taught, the depth of understanding required, and the opportunity for innovative problem-solving and critical thinking.\n",
    "\n",
    "Please choose between Puzzle A and Puzzle B, indicating which one you believe offers more significant educational value. Additionally, if you find that both puzzles are equally beneficial in their educational content and challenge, you may indicate a tie. Use the guidelines below to inform your decision:\n",
    "\n",
    "- If Puzzle A offers greater educational value than Puzzle B, respond with \"The decision is Puzzle A.\".\n",
    "- If Puzzle B offers greater educational value than Puzzle A, respond with \"The decision is Puzzle B.\".\n",
    "- If both puzzles offer comparable educational value, respond with \"The decision is Tie.\".\n",
    "\n",
    "Your discerning evaluation will help us curate puzzles that not only challenge but also effectively educate our audience, ensuring a meaningful and enriching learning experience.\n",
    "\n",
    "## Puzzle A:\n",
    "{puzzle_a}\n",
    "\n",
    "## Puzzle B:\n",
    "{puzzle_b}\n",
    "\n",
    "Response Format:\n",
    "### Decision:\n",
    "(Only respond with: \"The decision is Puzzle A / Puzzle B / Tie.\")\n",
    "\"\"\"\n",
    "\n",
    "pairwise_low_educational_value=\"\"\"You are an insightful and evaluative assistant tasked with assessing the educational value of pairs of Python Programming Puzzles. These puzzles are intended for individuals aiming to start learning software engineering skills, potentially aligning with the standards expected for a **beginner in Python**. Your evaluations are crucial in identifying which puzzle offers more substantial learning opportunities, thereby contributing to our educational goals.\n",
    "\n",
    "For each pair of puzzles, you should determine which one provides a richer educational experience. This includes considering factors such as the variety of programming concepts taught, the depth of understanding required, and the opportunity for innovative problem-solving and critical thinking.\n",
    "\n",
    "Please choose between Puzzle A and Puzzle B, indicating which one you believe offers more significant educational value. Additionally, if you find that both puzzles are equally beneficial in their educational content and challenge, you may indicate a tie. Use the guidelines below to inform your decision:\n",
    "\n",
    "- If Puzzle A offers greater educational value than Puzzle B, respond with \"The decision is Puzzle A.\".\n",
    "- If Puzzle B offers greater educational value than Puzzle A, respond with \"The decision is Puzzle B.\".\n",
    "- If both puzzles offer comparable educational value, respond with \"The decision is Tie.\".\n",
    "\n",
    "Your discerning evaluation will help us curate puzzles that not only challenge but also effectively educate our audience, ensuring a meaningful and enriching learning experience.\n",
    "\n",
    "## Puzzle A:\n",
    "{puzzle_a}\n",
    "\n",
    "## Puzzle B:\n",
    "{puzzle_b}\n",
    "\n",
    "Response Format:\n",
    "### Decision:\n",
    "(Only respond with: \"The decision is Puzzle A / Puzzle B / Tie.\")\n",
    "\"\"\""
   ]
  },
  {
   "cell_type": "code",
   "execution_count": null,
   "metadata": {},
   "outputs": [],
   "source": [
    "#overall_recommendation_grade,conciseness_grade,engagement_grade,difficulty_grade,usefulness_grade,clarity_grade\n",
    "list_score=[parse_score(i) for i in out]\n",
    "\n",
    "for idx,grade in enumerate(list_score):\n",
    "    print(\"\\n =====================\\n\")\n",
    "    print(\"puzzle \",idx,f\",grade = {grade}\")\n",
    "    print()\n",
    "    print(list_puzzle[idx])"
   ]
  },
  {
   "cell_type": "markdown",
   "metadata": {},
   "source": [
    "# pairwise"
   ]
  },
  {
   "cell_type": "code",
   "execution_count": 54,
   "metadata": {},
   "outputs": [],
   "source": [
    "# pairwise_tie_cot = \"\"\"You are assessing two submitted responses on a given user's query and judging which response is better or they are tied. \n",
    "# You are a discerning and objective assistant tasked with evaluating the difficulty and complexity of Python Programming Puzzles for candidates applying for a Google software engineer position. Your role is crucial in ensuring the puzzle's difficulty is accurately gauged to maintain the integrity of our evaluation process.\n",
    "# Your judgment should be based on factors such as the complexity of the algorithm required, the depth of programming concepts involved, and the innovative thinking needed to solve the puzzle.\n",
    "# We rely on your expertise and judgment to ensure a fair and accurate assessment.\n",
    "\n",
    "\n",
    "# Here is the data:\n",
    "\n",
    "# [BEGIN DATA]\n",
    "# ***\n",
    "# [Puzzle 1]:\n",
    "# ```\n",
    "# {puzzle1}\n",
    "# ```\n",
    "# ***\n",
    "# [Puzzle 2]:\n",
    "# ```\n",
    "# {puzzle2}\n",
    "# ```\n",
    "# ***\n",
    "# [END DATA]\n",
    "\n",
    "# Here are the instructions to assess and compare the two responses:\n",
    "# 1. Pinpoint the key factors to distinguish these two responses.\n",
    "# 2. Conclude your comparison by providing a final decision on which response is better, or they are tied. \n",
    "\n",
    "# Format your response as follows:\n",
    "# 1. Key Factors to Distinguish the Responses:\n",
    "#    - Puzzle 1 ...\n",
    "#    - Puzzle 2 ...\n",
    "# 2. Final Decision:\n",
    "# - If Puzzle 1 is better than Puzzle 2, respond with \"The decision is Puzzle 1\".\n",
    "# - If Puzzle 2 is better than Puzzle 1, respond with \"The decision is Puzzle 2\".\n",
    "# - If both puzzles are equally good, respond with \"The decision is Tie\".\n",
    "# \"\"\"\n",
    "def parse_pairwise_tie(s):\n",
    "    s=s.lower()\n",
    "    try:\n",
    "        response=s.split(\"the decision\")[1].split(\".\")[0]\n",
    "\n",
    "        if \"puzzle a\" in response:\n",
    "            return 0\n",
    "        elif \"puzzle b\" in response:\n",
    "            return 1\n",
    "        elif \"tie\" in response:\n",
    "            return 2\n",
    "    except:\n",
    "        pass\n",
    "    try:\n",
    "        response =s.split(\"conclusion\")[1].split(\".\")[0]\n",
    "        if \"puzzle a\" in response:\n",
    "            return 0\n",
    "        elif \"puzzle b\" in response:\n",
    "            return 1\n",
    "        elif \"tie\" in response:\n",
    "            return 2\n",
    "        \n",
    "    except:\n",
    "        pass\n",
    "    return 2\n",
    "        \n",
    "pairwise_tie=\"\"\"You are a discerning and analytical assistant tasked with evaluating the relative difficulty and complexity of pairs of Python Programming Puzzles. These puzzles are designed for candidates applying for a Google software engineer position. Your insights are critical in determining which puzzle of each pair presents a greater challenge to the candidate, thereby helping to refine our selection process.\n",
    "\n",
    "For each pair of puzzles, you should assess which one is more difficult and complex, considering factors such as the sophistication of the algorithm required, the depth of programming concepts involved, and the level of innovative thinking needed to solve the puzzle.\n",
    "\n",
    "Please choose between Puzzle A and Puzzle B, indicating which one you believe represents a greater challenge. Additionally, if you think the difficulty is equal and represents a significant challenge in their own ways, you may indicate a tie. Use the scale provided to guide your decision:\n",
    "\n",
    "- If Puzzle A is better than Puzzle B, respond with \"The decision is Puzzle A.\".\n",
    "- If Puzzle B is better than Puzzle A, respond with \"The decision is Puzzle B.\".\n",
    "- If both puzzles are equally good, respond with \"The decision is Tie.\".\n",
    "\n",
    "Your evaluation will ensure that our assessment process accurately reflects the varying levels of puzzle difficulty, aiding in the fair and precise selection of candidates.\n",
    "\n",
    "## Puzzle A:\n",
    "{puzzle_a}\n",
    "\n",
    "## Puzzle B:\n",
    "{puzzle_b}\n",
    "\n",
    "Response Format:\n",
    "### Decision:\n",
    "(Only respond with: \"The decision is Puzzle A / Puzzle B / Tie.\")\n",
    "\"\"\"\n",
    "pairwise_tie_cot=\"\"\"You are a discerning and analytical assistant tasked with evaluating the relative difficulty and complexity of pairs of Python Programming Puzzles. These puzzles are designed for candidates applying for a Google software engineer position. Your insights are critical in determining which puzzle of each pair presents a greater challenge to the candidate, thereby helping to refine our selection process.\n",
    "\n",
    "For each pair of puzzles, you should assess which one is more difficult and complex, considering factors such as the sophistication of the algorithm required, the depth of programming concepts involved, and the level of innovative thinking needed to solve the puzzle.\n",
    "\n",
    "Please choose between Puzzle A and Puzzle B, indicating which one you believe represents a greater challenge. Additionally, if you think the difficulty is equal and represents a significant challenge in their own ways, you may indicate a tie. Use the scale provided to guide your decision:\n",
    "\n",
    "- If Puzzle A is better than Puzzle B, respond with \"The decision is Puzzle A.\".\n",
    "- If Puzzle B is better than Puzzle A, respond with \"The decision is Puzzle B.\".\n",
    "- If both puzzles are equally good, respond with \"The decision is Tie.\".\n",
    "\n",
    "Your evaluation will ensure that our assessment process accurately reflects the varying levels of puzzle difficulty, aiding in the fair and precise selection of candidates.\n",
    "\n",
    "## Puzzle A:\n",
    "{puzzle_a}\n",
    "\n",
    "## Puzzle B:\n",
    "{puzzle_b}\n",
    "\n",
    "Response Format:\n",
    "### Puzzle compairson:\n",
    "(One or two sentence to compare the two Puzzles)\n",
    "### Conclusion:\n",
    "(Only respond with: \"The decision is Puzzle A / Puzzle B / Tie.\")\n",
    "\"\"\"\n",
    "\n",
    "\n",
    "pairwise_tie_educ = \"\"\"You are assessing two submitted responses on a given user's query and judging which response is better or they are tied. \n",
    "You are a discerning and objective assistant tasked with evaluating the difficulty and complexity of Python Programming Puzzles for candidates applying for a Google software engineer position. Your role is crucial in ensuring the puzzle's difficulty is accurately gauged to maintain the integrity of our evaluation process.\n",
    "Your judgment should be based on factors such as the complexity of the algorithm required, the depth of programming concepts involved, and the innovative thinking needed to solve the puzzle.\n",
    "We rely on your expertise and judgment to ensure a fair and accurate assessment.\n",
    "\n",
    "Here is the data:\n",
    "\n",
    "[BEGIN DATA]\n",
    "***\n",
    "[Puzzle 1]:\n",
    "```\n",
    "{puzzle1}\n",
    "```\n",
    "***\n",
    "[Puzzle 2]:\n",
    "```\n",
    "{puzzle2}\n",
    "```\n",
    "***\n",
    "[END DATA]\n",
    "\n",
    "You Must format your response as follows:\n",
    "- If Puzzle 1 is better than Puzzle 2, respond with \"The decision is Puzzle 1.\".\n",
    "- If Puzzle 2 is better than Puzzle 1, respond with \"The decision is Puzzle 2.\".\n",
    "- If both puzzles are equally good, respond with \"The decision is Tie.\".\n",
    "\"\"\"\n",
    "\n",
    "def parse_pairwise_tie_educ(s:str):\n",
    "    s=s.lower()\n",
    "    if \"puzzle 1\" in s or \"1\" in s:\n",
    "        return 0\n",
    "    if \"puzzle 2\" in s or \"2\" in s:\n",
    "        return 1\n",
    "    if \"tie\" in s:\n",
    "        return 2\n",
    "    else: \n",
    "        return 2\n",
    "\n",
    "# You should only respond with \"The decision is Puzzle 1 / Puzzle 2 / Tie\". \n",
    "\n",
    "# Ensure that your decision aligns coherently with the comprehensive evaluation and comparison you've provided.\"\"\"\n",
    "\n",
    "\n",
    "#**Begin** your final decision statement with "
   ]
  },
  {
   "cell_type": "code",
   "execution_count": 55,
   "metadata": {},
   "outputs": [
    {
     "name": "stdout",
     "output_type": "stream",
     "text": [
      "['### Decision:\\nThe decision is Puzzle A.', '### Decision:\\nThe decision is Tie.', '### Decision:\\nThe decision is Puzzle A.', '### Decision:\\nThe decision is Puzzle A.', '### Decision:\\nThe decision is Puzzle A.', '### Decision:\\nThe decision is Puzzle A.', '### Decision:\\nThe decision is Puzzle A.', '### Decision:\\nThe decision is Puzzle A.', '### Decision:\\nThe decision is Puzzle A.', '### Decision:\\nThe decision is Puzzle A.', '### Decision:\\nThe decision is Puzzle A.', '### Decision:\\nThe decision is Puzzle A.', '### Decision:\\nThe decision is Puzzle A.', '### Decision:\\nThe decision is Puzzle A.', '### Decision:\\nThe decision is Puzzle B.']\n"
     ]
    }
   ],
   "source": [
    "list_pairwise=[pairwise_tie.format(puzzle_a=list_puzzle[1],puzzle_b=list_puzzle[i]) for i in range(len(list_puzzle))]\n",
    "out=get_multiple_completions(client, list_pairwise, cfg,temperature=0.1)\n",
    "print(out)"
   ]
  },
  {
   "cell_type": "code",
   "execution_count": 56,
   "metadata": {},
   "outputs": [
    {
     "name": "stdout",
     "output_type": "stream",
     "text": [
      "===========\n",
      "\n",
      "### Decision:\n",
      "The decision is Puzzle A.\n",
      "===========\n",
      "\n",
      "### Decision:\n",
      "The decision is Tie.\n",
      "===========\n",
      "\n",
      "### Decision:\n",
      "The decision is Puzzle A.\n",
      "===========\n",
      "\n",
      "### Decision:\n",
      "The decision is Puzzle A.\n",
      "===========\n",
      "\n",
      "### Decision:\n",
      "The decision is Puzzle A.\n",
      "===========\n",
      "\n",
      "### Decision:\n",
      "The decision is Puzzle A.\n",
      "===========\n",
      "\n",
      "### Decision:\n",
      "The decision is Puzzle A.\n",
      "===========\n",
      "\n",
      "### Decision:\n",
      "The decision is Puzzle A.\n",
      "===========\n",
      "\n",
      "### Decision:\n",
      "The decision is Puzzle A.\n",
      "===========\n",
      "\n",
      "### Decision:\n",
      "The decision is Puzzle A.\n",
      "===========\n",
      "\n",
      "### Decision:\n",
      "The decision is Puzzle A.\n",
      "===========\n",
      "\n",
      "### Decision:\n",
      "The decision is Puzzle A.\n",
      "===========\n",
      "\n",
      "### Decision:\n",
      "The decision is Puzzle A.\n",
      "===========\n",
      "\n",
      "### Decision:\n",
      "The decision is Puzzle A.\n",
      "===========\n",
      "\n",
      "### Decision:\n",
      "The decision is Puzzle B.\n"
     ]
    }
   ],
   "source": [
    "list_out=[]\n",
    "for i in out:\n",
    "    print(\"===========\\n\")\n",
    "    print(i)\n",
    "    list_out.append(parse_pairwise_tie(i))"
   ]
  },
  {
   "cell_type": "code",
   "execution_count": 53,
   "metadata": {},
   "outputs": [
    {
     "data": {
      "text/plain": [
       "[0, 2, 0, 0, 0, 0, 0, 0, 0, 0, 0, 0, 0, 0, 1]"
      ]
     },
     "execution_count": 53,
     "metadata": {},
     "output_type": "execute_result"
    }
   ],
   "source": [
    "list_out"
   ]
  },
  {
   "cell_type": "code",
   "execution_count": 90,
   "metadata": {},
   "outputs": [
    {
     "name": "stdout",
     "output_type": "stream",
     "text": [
      "['The decision is Puzzle 2', 'The decision is Tie', 'The decision is Puzzle 2', 'The decision is Puzzle 2', 'The decision is Puzzle 2', 'The decision is Puzzle 2', 'The decision is Puzzle 2', 'The decision is Puzzle 2', 'The decision is Puzzle 2', 'The decision is Puzzle 2', 'The decision is Puzzle 1', 'The decision is Puzzle 2', 'The decision is Puzzle 1', 'The decision is Puzzle 2', 'The decision is Puzzle 1']\n"
     ]
    }
   ],
   "source": [
    "list_pairwise=[pairwise_tie.format(puzzle1=list_puzzle[i],puzzle2=list_puzzle[1]) for i in range(len(list_puzzle))]\n",
    "out=get_multiple_completions(client, list_pairwise, cfg,temperature=0.1)\n",
    "print(out)"
   ]
  },
  {
   "cell_type": "code",
   "execution_count": 87,
   "metadata": {},
   "outputs": [
    {
     "name": "stdout",
     "output_type": "stream",
     "text": [
      "['The decision is Puzzle 1', 'The decision is Tie', 'The decision is Puzzle 1', 'The decision is Puzzle 1', 'The decision is Puzzle 1', 'The decision is Puzzle 1', 'Based on the complexity of the algorithms and the depth of programming concepts involved, the decision is Puzzle 1.', 'The decision is Puzzle 1', 'The decision is Puzzle 1', 'The decision is Puzzle 1', 'The decision is Puzzle 1', 'The decision is Puzzle 2', 'The decision is Puzzle 2', 'The decision is Puzzle 2', 'The decision is Puzzle 2']\n"
     ]
    }
   ],
   "source": [
    "print(out)"
   ]
  },
  {
   "cell_type": "code",
   "execution_count": null,
   "metadata": {},
   "outputs": [],
   "source": []
  }
 ],
 "metadata": {
  "kernelspec": {
   "display_name": "codegpt",
   "language": "python",
   "name": "python3"
  },
  "language_info": {
   "codemirror_mode": {
    "name": "ipython",
    "version": 3
   },
   "file_extension": ".py",
   "mimetype": "text/x-python",
   "name": "python",
   "nbconvert_exporter": "python",
   "pygments_lexer": "ipython3",
   "version": "3.10.13"
  }
 },
 "nbformat": 4,
 "nbformat_minor": 2
}
