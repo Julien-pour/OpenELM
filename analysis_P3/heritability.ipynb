{
 "cells": [
  {
   "cell_type": "code",
   "execution_count": 1,
   "metadata": {},
   "outputs": [
    {
     "name": "stderr",
     "output_type": "stream",
     "text": [
      "/home/laetitia/miniconda3/envs/aces/lib/python3.10/site-packages/torch/nn/_reduction.py:42: UserWarning: size_average and reduce args will be deprecated, please use reduction='none' instead.\n",
      "  warnings.warn(warning.format(ret))\n"
     ]
    }
   ],
   "source": [
    "import os\n",
    "import json\n",
    "import torch\n",
    "import numpy as np\n",
    "import matplotlib.pyplot as plt\n",
    "\n",
    "from heritability import main"
   ]
  },
  {
   "cell_type": "code",
   "execution_count": 7,
   "metadata": {},
   "outputs": [],
   "source": [
    "def plot_res(data):\n",
    "    plt.hist(data['embedding_similarity'], bins=50, alpha=0.4, label='mutated')\n",
    "    plt.hist(data['embedding_similarity_scrambled'], bins=50, alpha=0.4, label='scrambled')\n",
    "    plt.xlim((0.7, 1.0))\n",
    "    plt.xlabel('Cosine sim')\n",
    "    plt.ylabel('Count')\n",
    "    plt.legend()"
   ]
  },
  {
   "cell_type": "code",
   "execution_count": 3,
   "metadata": {},
   "outputs": [],
   "source": [
    "prompt_to_test = \"\"\"    You are a helpful assistant to a Professor teaching a programming course in Python.\n",
    "    The Professor wants to give some puzzles to his master's students to teach them Python.\n",
    "\n",
    "    I already have a series of Python Programming Puzzles (P3). Each puzzle consists of two functions: a problem function `f` and its corresponding solution `g`. The challenge lies in constructing a SAT problem `f` and a function `g` such that `f(g())` evaluates to `True`.\n",
    "    I will provide two existing puzzles for reference, and I need you to create five new distinct puzzles (Puzzle 2 to Puzzle 6), each being a slight variation derived from Puzzle {N}.\n",
    "    \n",
    "    Rules:\n",
    "    - Each puzzle includes two functions: `def f(...)` and `def g(...)`.\n",
    "    - The first argument of `f` is always the output from `g()`.\n",
    "    - Ensure `f` and `g` have matching argument signatures (e.g., `def f(arg0, arg1=value1, arg2=value2, ...)` and `def g(arg1=value1, arg2=value2, ...)`).\n",
    "    - Avoid using `f` inside `g`, and `g` inside `f`.\n",
    "    - Include any necessary imports so your code runs smoothly.\n",
    "    - Give a clear Puzzle description that must be brief and diverse compared to the other puzzles.\n",
    "    - Make sure the puzzle is self-contained within these two functions.\n",
    "\n",
    "    Puzzle Format:\n",
    "    Puzzle description: A brief, one to two sentence summary of the puzzle's content.\n",
    "    ```python\n",
    "    def f(solution, args=...) -> bool:\n",
    "        # Python code to test the solution returned by g.\n",
    "        # This function is a test unit and must return True if the solution is correct, and False otherwise.\n",
    "\n",
    "    def g(args=...) -> solution:\n",
    "        # Python code to generate a solution for the problem.\n",
    "        # The solution should generalize to all possible args.\n",
    "        return solution\n",
    "\n",
    "    assert f(g()) == True\n",
    "    ```\n",
    "    {examples}\n",
    "    Your Task:\n",
    "    Create five new Python Programming Puzzles (Puzzle 2 to Puzzle 6).\n",
    "    Ensure that each new puzzle is very simlar to Puzzle {N}, only adding a bit of complexity.\"\"\""
   ]
  },
  {
   "cell_type": "code",
   "execution_count": 4,
   "metadata": {},
   "outputs": [
    {
     "data": {
      "text/plain": [
       "'bda91920a5c040b189a1a4ee41043529'"
      ]
     },
     "execution_count": 4,
     "metadata": {},
     "output_type": "execute_result"
    }
   ],
   "source": [
    "os.environ['AZURE_OPENAI_API_KEY']  # this must be set"
   ]
  },
  {
   "cell_type": "code",
   "execution_count": 9,
   "metadata": {},
   "outputs": [
    {
     "name": "stdout",
     "output_type": "stream",
     "text": [
      "----------------- Config ---------------\n",
      "model:\n",
      "  output_dir: logs/\n",
      "  seed: 0\n",
      "  fp16: true\n",
      "  cuda: true\n",
      "  gpus: 1\n",
      "  deterministic: false\n",
      "  top_p: 1.0\n",
      "  temp: 0.7\n",
      "  gen_max_len: -1\n",
      "  batch_size: 10\n",
      "  model_type: openai\n",
      "  model_path: gpt-35-0125\n",
      "  azure: true\n",
      "  azure_endpoint: https://petunia-3.openai.azure.com/\n",
      "  parrallel_call: true\n",
      "  processes: 15\n",
      "  logits_only: false\n",
      "  do_sample: true\n",
      "  num_return_sequences: 1\n",
      "  trust_remote_code: true\n",
      "  request_timeout: 30\n",
      "  max_retries: 100\n",
      "  model_name: prompt\n",
      "qd:\n",
      "  output_dir: logs/\n",
      "  seed: 0\n",
      "  model_path: gpt-35-0125\n",
      "  init_steps: 0\n",
      "  total_steps: 500\n",
      "  history_length: 4096\n",
      "  save_history: false\n",
      "  save_snapshot_interval: 20\n",
      "  loading_snapshot_map: false\n",
      "  log_snapshot_dir: ''\n",
      "  save_np_rng_state: false\n",
      "  load_np_rng_state: false\n",
      "  crossover: false\n",
      "  crossover_parents: 2\n",
      "  save_bad_individual: true\n",
      "  sampling_strategy: uniform\n",
      "  temperature_soft_sampling: 0.2\n",
      "  n_fewshot_examples: 2\n",
      "  unique_id: default\n",
      "  qd_name: mapelites\n",
      "  map_grid_size:\n",
      "  - 2\n",
      "env:\n",
      "  output_dir: logs/\n",
      "  seed: 0\n",
      "  timeout: 10.0\n",
      "  sandbox: false\n",
      "  sandbox_server: http://localhost:5000\n",
      "  processes: 15\n",
      "  batch_size: 10\n",
      "  env_name: p3_probsol_Chat\n",
      "  debug: false\n",
      "  n_descriptor: 20\n",
      "  max_descriptor_targeted: 5\n",
      "  IMGEP_mode: none\n",
      "  prompt_size: med\n",
      "  use_preprocessed_trainset: true\n",
      "  use_preprocessed_trainset_emb: true\n",
      "  starting_seed: 3\n",
      "  eval_k: -1\n",
      "  embedding_model_type: openai\n",
      "  embedding_model_path: ChatGPT\n",
      "  model_name: chatgpt\n",
      "  GPT_feedback: true\n",
      "  N_puzzle_to_gen: 5\n",
      "output_dir: logs/\n",
      "seed: 0\n",
      "run_name: null\n",
      "\n",
      "-----------------  End -----------------\n",
      "USING AZURE API\n",
      " \n",
      "\n",
      " ======================\n",
      "\n",
      " ======================\n",
      "\n",
      " IMGEP mode = none \n",
      "\n",
      " ======================\n",
      "\n",
      "\n",
      " ======================\n",
      "\n",
      "\n",
      "load embedding model:\n",
      "ChatGPT\n",
      "loading preprocessed trainset\n"
     ]
    },
    {
     "name": "stderr",
     "output_type": "stream",
     "text": [
      "100%|██████████| 138/138 [00:00<00:00, 1653754.15it/s]"
     ]
    },
    {
     "name": "stdout",
     "output_type": "stream",
     "text": [
      "p3_probsol_Chat\n",
      "<openelm.environments.p3.p3.P3ProbSol_Chat object at 0x7fc1a7456320>\n"
     ]
    },
    {
     "name": "stderr",
     "output_type": "stream",
     "text": [
      "\n"
     ]
    },
    {
     "name": "stdout",
     "output_type": "stream",
     "text": [
      "Batch index 0\n",
      "generating programs\n"
     ]
    }
   ],
   "source": [
    "metric_dict = main(prompt_to_test=prompt_to_test, num_puz=100)"
   ]
  },
  {
   "cell_type": "code",
   "execution_count": 8,
   "metadata": {},
   "outputs": [
    {
     "data": {
      "image/png": "[encoded data removed]",
      "text/plain": [
       "<Figure size 640x480 with 1 Axes>"
      ]
     },
     "metadata": {},
     "output_type": "display_data"
    }
   ],
   "source": [
    "plot_res(metric_dict)"
   ]
  },
  {
   "cell_type": "code",
   "execution_count": null,
   "metadata": {},
   "outputs": [],
   "source": []
  }
 ],
 "metadata": {
  "kernelspec": {
   "display_name": "aces",
   "language": "python",
   "name": "python3"
  },
  "language_info": {
   "codemirror_mode": {
    "name": "ipython",
    "version": 3
   },
   "file_extension": ".py",
   "mimetype": "text/x-python",
   "name": "python",
   "nbconvert_exporter": "python",
   "pygments_lexer": "ipython3",
   "version": "3.10.13"
  }
 },
 "nbformat": 4,
 "nbformat_minor": 2
}
